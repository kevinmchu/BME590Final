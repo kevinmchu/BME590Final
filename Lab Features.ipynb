{
 "cells": [
  {
   "cell_type": "code",
   "execution_count": 1,
   "metadata": {},
   "outputs": [],
   "source": [
    "import pandas as pd\n",
    "import numpy as np\n",
    "from datetime import datetime as dt\n",
    "import sqlite3 # library for working with sqlite database"
   ]
  },
  {
   "cell_type": "markdown",
   "metadata": {},
   "source": [
    "### GETTING TABLES"
   ]
  },
  {
   "cell_type": "code",
   "execution_count": 2,
   "metadata": {},
   "outputs": [],
   "source": [
    "# Create connections to the on-disk databases\n",
    "conn2 = sqlite3.connect(\"./data/lab_events.db\") # keep this\n",
    "conn3 = sqlite3.connect(\"./data/labevents_common.db\") # change this\n",
    "\n",
    "# Create dataframes\n",
    "#lab_events_df = pd.read_sql(\"\"\"SELECT * FROM lab_events\"\"\", conn2)\n",
    "lab_events_df = pd.read_sql(\"\"\"SELECT * FROM labevents_common\"\"\", conn3)\n",
    "lab_items_df = pd.read_sql(\"\"\"SELECT * FROM lab_items\"\"\", conn2)"
   ]
  },
  {
   "cell_type": "code",
   "execution_count": 3,
   "metadata": {},
   "outputs": [],
   "source": [
    "# Convert to numeric data types\n",
    "lab_events_df[\"SUBJECT_ID\"] = pd.to_numeric(lab_events_df[\"SUBJECT_ID\"])\n",
    "lab_events_df[\"HADM_ID\"] = pd.to_numeric(lab_events_df[\"HADM_ID\"]).astype(int)\n",
    "lab_events_df[\"VALUENUM\"] = pd.to_numeric(lab_events_df[\"VALUENUM\"])"
   ]
  },
  {
   "cell_type": "markdown",
   "metadata": {},
   "source": [
    "### CLEAN DATA"
   ]
  },
  {
   "cell_type": "code",
   "execution_count": 4,
   "metadata": {},
   "outputs": [],
   "source": [
    "# Remove rows where VALUENUM is nan\n",
    "lab_events_df = lab_events_df.loc[(lab_events_df[\"VALUENUM\"]).notna(), :]\n",
    "\n",
    "# Remove negative values\n",
    "#lab_events_df = lab_events_df.loc[lab_events_df[\"VALUENUM\"] >= 0,:]\n",
    "\n",
    "# Merge with labels for laboratory measurements\n",
    "lab_events_df = lab_events_df.merge(lab_items_df[['ITEMID','LABEL']], left_on='ITEMID', right_on='ITEMID')"
   ]
  },
  {
   "cell_type": "markdown",
   "metadata": {},
   "source": [
    "### TRUTH LABELS"
   ]
  },
  {
   "cell_type": "code",
   "execution_count": 5,
   "metadata": {},
   "outputs": [],
   "source": [
    "# Column 1: SUBJECT_ID\n",
    "# Column 2: TRUTH\n",
    "# Column 3: HADM_ID\n",
    "truth_array = np.loadtxt(\"csv/TRUTH.csv\", delimiter=',', skiprows=1)\n",
    "\n",
    "# Create a dataframe with truth values\n",
    "truth_df = pd.DataFrame(truth_array, columns=['SUBJECT_ID', 'TRUTH', 'HADM_ID'])\n",
    "\n",
    "# Convert to ints\n",
    "truth_df[\"SUBJECT_ID\"] = truth_df[\"SUBJECT_ID\"].astype(int)\n",
    "truth_df[\"TRUTH\"] = truth_df[\"TRUTH\"].astype(int)\n",
    "truth_df[\"HADM_ID\"] = truth_df[\"HADM_ID\"].astype(int)\n",
    "#truth_df = truth_df.loc[truth_df[\"TRUTH\"]==1]"
   ]
  },
  {
   "cell_type": "markdown",
   "metadata": {},
   "source": [
    "### GET RELEVANT ADMISSIONS"
   ]
  },
  {
   "cell_type": "code",
   "execution_count": 6,
   "metadata": {},
   "outputs": [],
   "source": [
    "# Only interested in lab events corresponding to the relevant admissions\n",
    "relevant_lab_events_df = lab_events_df.merge(truth_df, on='HADM_ID')"
   ]
  },
  {
   "cell_type": "markdown",
   "metadata": {},
   "source": [
    "### GET FEATURES"
   ]
  },
  {
   "cell_type": "code",
   "execution_count": 7,
   "metadata": {},
   "outputs": [],
   "source": [
    "meas_type = np.unique(relevant_lab_events_df[\"LABEL\"].get_values())\n",
    "subjects = np.unique(relevant_lab_events_df[\"SUBJECT_ID_x\"].get_values())"
   ]
  },
  {
   "cell_type": "code",
   "execution_count": 8,
   "metadata": {},
   "outputs": [],
   "source": [
    "# Take the mean of every measurement for every subject\n",
    "avg_df = relevant_lab_events_df.groupby(['HADM_ID', 'LABEL'], as_index = False)['VALUENUM'].median()\n",
    "avg_df = avg_df.rename(index=str, columns={\"VALUENUM\": \"AVG\"})"
   ]
  },
  {
   "cell_type": "code",
   "execution_count": 9,
   "metadata": {},
   "outputs": [],
   "source": [
    "# Create separate columns for glucose average, oxygen saturation average, and temperature average\n",
    "design_mat_df = truth_df\n",
    "for meas in meas_type:\n",
    "    # Get avg of current measurement\n",
    "    meas_avg_df = avg_df.loc[avg_df[\"LABEL\"] == meas, [\"HADM_ID\", \"AVG\"]]\n",
    "    \n",
    "    # Rename\n",
    "    rename_as = meas + \"_AVG\"\n",
    "    meas_avg_df = meas_avg_df.rename(index=str, columns={\"AVG\": rename_as})\n",
    "    \n",
    "    # Merge\n",
    "    design_mat_df = design_mat_df.merge(meas_avg_df, how='left', on='HADM_ID')\n"
   ]
  },
  {
   "cell_type": "markdown",
   "metadata": {},
   "source": [
    "#### Missing Values"
   ]
  },
  {
   "cell_type": "code",
   "execution_count": 10,
   "metadata": {},
   "outputs": [],
   "source": [
    "# Create additional columns for missing values\n",
    "#for meas in meas_type:\n",
    "#    # Get current column\n",
    "#    curr_meas = design_mat_df.loc[:, meas + \"_AVG\"]\n",
    "    \n",
    "#    # Add column for missing values\n",
    "#    design_mat_df[meas + \"_AVG_missing\"] = curr_meas.isna().astype(int)\n"
   ]
  },
  {
   "cell_type": "code",
   "execution_count": 11,
   "metadata": {},
   "outputs": [],
   "source": [
    "# Median Imputation\n",
    "design_mat_df = design_mat_df.fillna(design_mat_df.median())"
   ]
  },
  {
   "cell_type": "code",
   "execution_count": 12,
   "metadata": {},
   "outputs": [],
   "source": [
    "#design_mat_df.iloc[:,3:len(design_mat_df.columns)].isna().sum().sort_values()"
   ]
  },
  {
   "cell_type": "code",
   "execution_count": 13,
   "metadata": {},
   "outputs": [],
   "source": [
    "# Get X and y values\n",
    "X = design_mat_df.iloc[:, 3:len(design_mat_df.columns)].get_values()\n",
    "y = design_mat_df.TRUTH.get_values()"
   ]
  },
  {
   "cell_type": "code",
   "execution_count": 14,
   "metadata": {},
   "outputs": [],
   "source": [
    "import random\n",
    "\n",
    "# Get negative and positive examples\n",
    "X0 = X[y == 0, :]\n",
    "y0 = y[y == 0]\n",
    "X1 = X[y == 1, :]\n",
    "y1 = y[y == 1]\n",
    "\n",
    "# Randomly select X0's\n",
    "rand_idx = random.sample(range(0, len(y0)), len(y1))\n",
    "X0_subset = X0[rand_idx, :]\n",
    "y0_subset = y0[rand_idx]\n",
    "\n",
    "# Recreate X and y\n",
    "X = np.concatenate((X0_subset, X1))\n",
    "y = np.concatenate((y0_subset, y1))\n",
    "\n",
    "# Randomly order\n",
    "rand_idx2 = random.sample(range(0, len(y)), len(y))\n",
    "X = X[rand_idx2, :]\n",
    "y = y[rand_idx2]"
   ]
  },
  {
   "cell_type": "code",
   "execution_count": 15,
   "metadata": {},
   "outputs": [],
   "source": [
    "not_readmitted = design_mat_df.loc[design_mat_df[\"TRUTH\"]==0, \"HADM_ID\"]\n",
    "idx = random.sample(range(0, len(not_readmitted)), len(y1))\n",
    "subset = not_readmitted.iloc[idx]\n",
    "\n",
    "np.savetxt(\"Class0Subset.csv\", subset, fmt='%d', delimiter=\"''\")"
   ]
  },
  {
   "cell_type": "markdown",
   "metadata": {},
   "source": [
    "### VISUALIZATION"
   ]
  },
  {
   "cell_type": "code",
   "execution_count": 16,
   "metadata": {},
   "outputs": [
    {
     "data": {
      "text/plain": [
       "<Figure size 640x480 with 1 Axes>"
      ]
     },
     "metadata": {},
     "output_type": "display_data"
    }
   ],
   "source": [
    "import matplotlib.pyplot as plt\n",
    "from sklearn.decomposition import PCA\n",
    "\n",
    "pca = PCA(n_components=2)\n",
    "X_pca = pca.fit_transform(X)\n",
    "\n",
    "# Plot\n",
    "plt.scatter(X_pca[y==0, 0], X_pca[y==0, 1])\n",
    "plt.scatter(X_pca[y==1, 0], X_pca[y==1, 1])\n",
    "plt.show()"
   ]
  },
  {
   "cell_type": "markdown",
   "metadata": {},
   "source": [
    "### CLASSIFICATION"
   ]
  },
  {
   "cell_type": "code",
   "execution_count": 17,
   "metadata": {},
   "outputs": [],
   "source": [
    "from sklearn.model_selection import train_test_split\n",
    "\n",
    "# make train and test splits\n",
    "X_train, X_test, y_train, y_test = train_test_split(X, y,test_size = 0.33, random_state = 0)"
   ]
  },
  {
   "cell_type": "code",
   "execution_count": 18,
   "metadata": {},
   "outputs": [
    {
     "name": "stdout",
     "output_type": "stream",
     "text": [
      "[[40.5   10.4    4.76   5.4  ]\n",
      " [25.    10.4    3.03   4.8  ]\n",
      " [28.65   8.6    3.91  10.3  ]\n",
      " ...\n",
      " [35.6   12.7    3.83   8.8  ]\n",
      " [36.6   14.3    4.415 13.85 ]\n",
      " [25.2   10.4    2.57   8.3  ]]\n"
     ]
    }
   ],
   "source": [
    "print(X_train)"
   ]
  },
  {
   "cell_type": "code",
   "execution_count": 19,
   "metadata": {},
   "outputs": [],
   "source": [
    "from sklearn.preprocessing import normalize\n",
    "\n",
    "# Normalize\n",
    "#X_train[:, 0:3] = normalize(X_train[:, 0:3], norm='max', axis=0)\n",
    "#X_test[:, 0:3] = normalize(X_test[:, 0:3], norm='max', axis=0)"
   ]
  },
  {
   "cell_type": "code",
   "execution_count": 20,
   "metadata": {},
   "outputs": [],
   "source": [
    "from sklearn.svm import SVC\n",
    "\n",
    "svm = SVC(gamma='auto')\n",
    "svm.fit(X_train, y_train)\n",
    "y_pred = svm.decision_function(X_test)\n"
   ]
  },
  {
   "cell_type": "code",
   "execution_count": 21,
   "metadata": {},
   "outputs": [],
   "source": [
    "from sklearn import metrics\n",
    "\n",
    "fpr, tpr, thresholds = metrics.roc_curve(y_test, y_pred, pos_label=1)\n",
    "AUC = metrics.auc(fpr, tpr)"
   ]
  },
  {
   "cell_type": "code",
   "execution_count": 22,
   "metadata": {},
   "outputs": [],
   "source": [
    "#from sklearn.ensemble import RandomForestClassifier\n",
    "#clf = RandomForestClassifier(random_state=0)\n",
    "#clf=clf.fit(X_train,y_train)\n",
    "#y_pred = clf.predict(X_test)"
   ]
  },
  {
   "cell_type": "code",
   "execution_count": 23,
   "metadata": {},
   "outputs": [
    {
     "data": {
      "text/plain": [
       "0.5654528394810135"
      ]
     },
     "execution_count": 23,
     "metadata": {},
     "output_type": "execute_result"
    }
   ],
   "source": [
    "AUC"
   ]
  }
 ],
 "metadata": {
  "kernelspec": {
   "display_name": "Python 3",
   "language": "python",
   "name": "python3"
  },
  "language_info": {
   "codemirror_mode": {
    "name": "ipython",
    "version": 3
   },
   "file_extension": ".py",
   "mimetype": "text/x-python",
   "name": "python",
   "nbconvert_exporter": "python",
   "pygments_lexer": "ipython3",
   "version": "3.7.1"
  }
 },
 "nbformat": 4,
 "nbformat_minor": 2
}
