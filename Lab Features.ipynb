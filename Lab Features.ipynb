{
 "cells": [
  {
   "cell_type": "code",
   "execution_count": 1,
   "metadata": {},
   "outputs": [],
   "source": [
    "import pandas as pd\n",
    "import numpy as np\n",
    "from datetime import datetime as dt\n",
    "import sqlite3 # library for working with sqlite database\n",
    "conn = sqlite3.connect(\"./data/data.db\") # Create a connection to the on-disk database\n",
    "conn2 = sqlite3.connect(\"./data/lab_events.db\") # Create a connection to the on-disk database"
   ]
  },
  {
   "cell_type": "markdown",
   "metadata": {},
   "source": [
    "### GETTING TABLES"
   ]
  },
  {
   "cell_type": "code",
   "execution_count": 2,
   "metadata": {},
   "outputs": [
    {
     "data": {
      "text/html": [
       "<div>\n",
       "<style scoped>\n",
       "    .dataframe tbody tr th:only-of-type {\n",
       "        vertical-align: middle;\n",
       "    }\n",
       "\n",
       "    .dataframe tbody tr th {\n",
       "        vertical-align: top;\n",
       "    }\n",
       "\n",
       "    .dataframe thead th {\n",
       "        text-align: right;\n",
       "    }\n",
       "</style>\n",
       "<table border=\"1\" class=\"dataframe\">\n",
       "  <thead>\n",
       "    <tr style=\"text-align: right;\">\n",
       "      <th></th>\n",
       "      <th>type</th>\n",
       "      <th>name</th>\n",
       "      <th>tbl_name</th>\n",
       "      <th>rootpage</th>\n",
       "      <th>sql</th>\n",
       "    </tr>\n",
       "  </thead>\n",
       "  <tbody>\n",
       "    <tr>\n",
       "      <th>0</th>\n",
       "      <td>table</td>\n",
       "      <td>lab_events</td>\n",
       "      <td>lab_events</td>\n",
       "      <td>2</td>\n",
       "      <td>CREATE TABLE lab_events(\\n  \"ROW_ID\" TEXT,\\n  ...</td>\n",
       "    </tr>\n",
       "    <tr>\n",
       "      <th>1</th>\n",
       "      <td>table</td>\n",
       "      <td>lab_items</td>\n",
       "      <td>lab_items</td>\n",
       "      <td>7592</td>\n",
       "      <td>CREATE TABLE lab_items(\\n  \"ROW_ID\" TEXT,\\n  \"...</td>\n",
       "    </tr>\n",
       "  </tbody>\n",
       "</table>\n",
       "</div>"
      ],
      "text/plain": [
       "    type        name    tbl_name  rootpage  \\\n",
       "0  table  lab_events  lab_events         2   \n",
       "1  table   lab_items   lab_items      7592   \n",
       "\n",
       "                                                 sql  \n",
       "0  CREATE TABLE lab_events(\\n  \"ROW_ID\" TEXT,\\n  ...  \n",
       "1  CREATE TABLE lab_items(\\n  \"ROW_ID\" TEXT,\\n  \"...  "
      ]
     },
     "execution_count": 2,
     "metadata": {},
     "output_type": "execute_result"
    }
   ],
   "source": [
    "pd.read_sql(\"SELECT * FROM sqlite_master where type='table'\", conn2)"
   ]
  },
  {
   "cell_type": "code",
   "execution_count": 3,
   "metadata": {},
   "outputs": [
    {
     "data": {
      "text/html": [
       "<div>\n",
       "<style scoped>\n",
       "    .dataframe tbody tr th:only-of-type {\n",
       "        vertical-align: middle;\n",
       "    }\n",
       "\n",
       "    .dataframe tbody tr th {\n",
       "        vertical-align: top;\n",
       "    }\n",
       "\n",
       "    .dataframe thead th {\n",
       "        text-align: right;\n",
       "    }\n",
       "</style>\n",
       "<table border=\"1\" class=\"dataframe\">\n",
       "  <thead>\n",
       "    <tr style=\"text-align: right;\">\n",
       "      <th></th>\n",
       "      <th>ROW_ID</th>\n",
       "      <th>SUBJECT_ID</th>\n",
       "      <th>HADM_ID</th>\n",
       "      <th>ITEMID</th>\n",
       "      <th>CHARTTIME</th>\n",
       "      <th>VALUE</th>\n",
       "      <th>VALUENUM</th>\n",
       "      <th>VALUEUOM</th>\n",
       "      <th>FLAG</th>\n",
       "    </tr>\n",
       "  </thead>\n",
       "  <tbody>\n",
       "    <tr>\n",
       "      <th>0</th>\n",
       "      <td>516</td>\n",
       "      <td>3</td>\n",
       "      <td>145834</td>\n",
       "      <td>50809</td>\n",
       "      <td>10/20/01 19:14</td>\n",
       "      <td>140</td>\n",
       "      <td>140</td>\n",
       "      <td>mg/dL</td>\n",
       "      <td>abnormal</td>\n",
       "    </tr>\n",
       "    <tr>\n",
       "      <th>1</th>\n",
       "      <td>585</td>\n",
       "      <td>3</td>\n",
       "      <td>145834</td>\n",
       "      <td>50809</td>\n",
       "      <td>10/20/01 20:04</td>\n",
       "      <td>265</td>\n",
       "      <td>265</td>\n",
       "      <td>mg/dL</td>\n",
       "      <td>abnormal</td>\n",
       "    </tr>\n",
       "    <tr>\n",
       "      <th>2</th>\n",
       "      <td>593</td>\n",
       "      <td>3</td>\n",
       "      <td>145834</td>\n",
       "      <td>50825</td>\n",
       "      <td>10/20/01 20:04</td>\n",
       "      <td>36.7</td>\n",
       "      <td>36.7</td>\n",
       "      <td></td>\n",
       "      <td></td>\n",
       "    </tr>\n",
       "    <tr>\n",
       "      <th>3</th>\n",
       "      <td>599</td>\n",
       "      <td>3</td>\n",
       "      <td>145834</td>\n",
       "      <td>50809</td>\n",
       "      <td>10/20/01 21:51</td>\n",
       "      <td>267</td>\n",
       "      <td>267</td>\n",
       "      <td>mg/dL</td>\n",
       "      <td>abnormal</td>\n",
       "    </tr>\n",
       "    <tr>\n",
       "      <th>4</th>\n",
       "      <td>605</td>\n",
       "      <td>3</td>\n",
       "      <td>145834</td>\n",
       "      <td>50817</td>\n",
       "      <td>10/20/01 21:51</td>\n",
       "      <td>99</td>\n",
       "      <td>99</td>\n",
       "      <td></td>\n",
       "      <td></td>\n",
       "    </tr>\n",
       "  </tbody>\n",
       "</table>\n",
       "</div>"
      ],
      "text/plain": [
       "  ROW_ID SUBJECT_ID HADM_ID ITEMID       CHARTTIME VALUE VALUENUM VALUEUOM  \\\n",
       "0    516          3  145834  50809  10/20/01 19:14   140      140    mg/dL   \n",
       "1    585          3  145834  50809  10/20/01 20:04   265      265    mg/dL   \n",
       "2    593          3  145834  50825  10/20/01 20:04  36.7     36.7            \n",
       "3    599          3  145834  50809  10/20/01 21:51   267      267    mg/dL   \n",
       "4    605          3  145834  50817  10/20/01 21:51    99       99            \n",
       "\n",
       "       FLAG  \n",
       "0  abnormal  \n",
       "1  abnormal  \n",
       "2            \n",
       "3  abnormal  \n",
       "4            "
      ]
     },
     "execution_count": 3,
     "metadata": {},
     "output_type": "execute_result"
    }
   ],
   "source": [
    "lab_events_df = pd.read_sql(\"\"\"SELECT * FROM lab_events\"\"\", conn2)\n",
    "lab_events_df.head()"
   ]
  },
  {
   "cell_type": "code",
   "execution_count": 4,
   "metadata": {},
   "outputs": [
    {
     "data": {
      "text/html": [
       "<div>\n",
       "<style scoped>\n",
       "    .dataframe tbody tr th:only-of-type {\n",
       "        vertical-align: middle;\n",
       "    }\n",
       "\n",
       "    .dataframe tbody tr th {\n",
       "        vertical-align: top;\n",
       "    }\n",
       "\n",
       "    .dataframe thead th {\n",
       "        text-align: right;\n",
       "    }\n",
       "</style>\n",
       "<table border=\"1\" class=\"dataframe\">\n",
       "  <thead>\n",
       "    <tr style=\"text-align: right;\">\n",
       "      <th></th>\n",
       "      <th>ROW_ID</th>\n",
       "      <th>ITEMID</th>\n",
       "      <th>LABEL</th>\n",
       "      <th>FLUID</th>\n",
       "      <th>CATEGORY</th>\n",
       "      <th>LOINC_CODE</th>\n",
       "    </tr>\n",
       "  </thead>\n",
       "  <tbody>\n",
       "    <tr>\n",
       "      <th>0</th>\n",
       "      <td>546</td>\n",
       "      <td>51346</td>\n",
       "      <td>Blasts</td>\n",
       "      <td>Cerebrospinal Fluid (CSF)</td>\n",
       "      <td>Hematology</td>\n",
       "      <td>26447-3</td>\n",
       "    </tr>\n",
       "    <tr>\n",
       "      <th>1</th>\n",
       "      <td>547</td>\n",
       "      <td>51347</td>\n",
       "      <td>Eosinophils</td>\n",
       "      <td>Cerebrospinal Fluid (CSF)</td>\n",
       "      <td>Hematology</td>\n",
       "      <td>26451-5</td>\n",
       "    </tr>\n",
       "    <tr>\n",
       "      <th>2</th>\n",
       "      <td>548</td>\n",
       "      <td>51348</td>\n",
       "      <td>Hematocrit, CSF</td>\n",
       "      <td>Cerebrospinal Fluid (CSF)</td>\n",
       "      <td>Hematology</td>\n",
       "      <td>30398-2</td>\n",
       "    </tr>\n",
       "    <tr>\n",
       "      <th>3</th>\n",
       "      <td>549</td>\n",
       "      <td>51349</td>\n",
       "      <td>Hypersegmented Neutrophils</td>\n",
       "      <td>Cerebrospinal Fluid (CSF)</td>\n",
       "      <td>Hematology</td>\n",
       "      <td>26506-6</td>\n",
       "    </tr>\n",
       "    <tr>\n",
       "      <th>4</th>\n",
       "      <td>550</td>\n",
       "      <td>51350</td>\n",
       "      <td>Immunophenotyping</td>\n",
       "      <td>Cerebrospinal Fluid (CSF)</td>\n",
       "      <td>Hematology</td>\n",
       "      <td></td>\n",
       "    </tr>\n",
       "  </tbody>\n",
       "</table>\n",
       "</div>"
      ],
      "text/plain": [
       "  ROW_ID ITEMID                       LABEL                      FLUID  \\\n",
       "0    546  51346                      Blasts  Cerebrospinal Fluid (CSF)   \n",
       "1    547  51347                 Eosinophils  Cerebrospinal Fluid (CSF)   \n",
       "2    548  51348             Hematocrit, CSF  Cerebrospinal Fluid (CSF)   \n",
       "3    549  51349  Hypersegmented Neutrophils  Cerebrospinal Fluid (CSF)   \n",
       "4    550  51350           Immunophenotyping  Cerebrospinal Fluid (CSF)   \n",
       "\n",
       "     CATEGORY LOINC_CODE  \n",
       "0  Hematology    26447-3  \n",
       "1  Hematology    26451-5  \n",
       "2  Hematology    30398-2  \n",
       "3  Hematology    26506-6  \n",
       "4  Hematology             "
      ]
     },
     "execution_count": 4,
     "metadata": {},
     "output_type": "execute_result"
    }
   ],
   "source": [
    "lab_items_df = pd.read_sql(\"\"\"SELECT * FROM lab_items\"\"\", conn2)\n",
    "lab_items_df.head()"
   ]
  },
  {
   "cell_type": "code",
   "execution_count": 5,
   "metadata": {},
   "outputs": [],
   "source": [
    "# Convert to numeric data types\n",
    "lab_events_df[\"SUBJECT_ID\"] = pd.to_numeric(lab_events_df[\"SUBJECT_ID\"])\n",
    "lab_events_df[\"HADM_ID\"] = pd.to_numeric(lab_events_df[\"HADM_ID\"]).astype(int)\n",
    "lab_events_df[\"VALUENUM\"] = pd.to_numeric(lab_events_df[\"VALUENUM\"])\n"
   ]
  },
  {
   "cell_type": "markdown",
   "metadata": {},
   "source": [
    "### CLEAN DATA"
   ]
  },
  {
   "cell_type": "code",
   "execution_count": 6,
   "metadata": {},
   "outputs": [
    {
     "data": {
      "text/html": [
       "<div>\n",
       "<style scoped>\n",
       "    .dataframe tbody tr th:only-of-type {\n",
       "        vertical-align: middle;\n",
       "    }\n",
       "\n",
       "    .dataframe tbody tr th {\n",
       "        vertical-align: top;\n",
       "    }\n",
       "\n",
       "    .dataframe thead th {\n",
       "        text-align: right;\n",
       "    }\n",
       "</style>\n",
       "<table border=\"1\" class=\"dataframe\">\n",
       "  <thead>\n",
       "    <tr style=\"text-align: right;\">\n",
       "      <th></th>\n",
       "      <th>ROW_ID</th>\n",
       "      <th>SUBJECT_ID</th>\n",
       "      <th>HADM_ID</th>\n",
       "      <th>ITEMID</th>\n",
       "      <th>CHARTTIME</th>\n",
       "      <th>VALUE</th>\n",
       "      <th>VALUENUM</th>\n",
       "      <th>VALUEUOM</th>\n",
       "      <th>FLAG</th>\n",
       "    </tr>\n",
       "  </thead>\n",
       "  <tbody>\n",
       "    <tr>\n",
       "      <th>0</th>\n",
       "      <td>516</td>\n",
       "      <td>3</td>\n",
       "      <td>145834</td>\n",
       "      <td>50809</td>\n",
       "      <td>10/20/01 19:14</td>\n",
       "      <td>140</td>\n",
       "      <td>140.0</td>\n",
       "      <td>mg/dL</td>\n",
       "      <td>abnormal</td>\n",
       "    </tr>\n",
       "    <tr>\n",
       "      <th>1</th>\n",
       "      <td>585</td>\n",
       "      <td>3</td>\n",
       "      <td>145834</td>\n",
       "      <td>50809</td>\n",
       "      <td>10/20/01 20:04</td>\n",
       "      <td>265</td>\n",
       "      <td>265.0</td>\n",
       "      <td>mg/dL</td>\n",
       "      <td>abnormal</td>\n",
       "    </tr>\n",
       "    <tr>\n",
       "      <th>2</th>\n",
       "      <td>593</td>\n",
       "      <td>3</td>\n",
       "      <td>145834</td>\n",
       "      <td>50825</td>\n",
       "      <td>10/20/01 20:04</td>\n",
       "      <td>36.7</td>\n",
       "      <td>36.7</td>\n",
       "      <td></td>\n",
       "      <td></td>\n",
       "    </tr>\n",
       "    <tr>\n",
       "      <th>3</th>\n",
       "      <td>599</td>\n",
       "      <td>3</td>\n",
       "      <td>145834</td>\n",
       "      <td>50809</td>\n",
       "      <td>10/20/01 21:51</td>\n",
       "      <td>267</td>\n",
       "      <td>267.0</td>\n",
       "      <td>mg/dL</td>\n",
       "      <td>abnormal</td>\n",
       "    </tr>\n",
       "    <tr>\n",
       "      <th>4</th>\n",
       "      <td>605</td>\n",
       "      <td>3</td>\n",
       "      <td>145834</td>\n",
       "      <td>50817</td>\n",
       "      <td>10/20/01 21:51</td>\n",
       "      <td>99</td>\n",
       "      <td>99.0</td>\n",
       "      <td></td>\n",
       "      <td></td>\n",
       "    </tr>\n",
       "  </tbody>\n",
       "</table>\n",
       "</div>"
      ],
      "text/plain": [
       "  ROW_ID  SUBJECT_ID  HADM_ID ITEMID       CHARTTIME VALUE  VALUENUM VALUEUOM  \\\n",
       "0    516           3   145834  50809  10/20/01 19:14   140     140.0    mg/dL   \n",
       "1    585           3   145834  50809  10/20/01 20:04   265     265.0    mg/dL   \n",
       "2    593           3   145834  50825  10/20/01 20:04  36.7      36.7            \n",
       "3    599           3   145834  50809  10/20/01 21:51   267     267.0    mg/dL   \n",
       "4    605           3   145834  50817  10/20/01 21:51    99      99.0            \n",
       "\n",
       "       FLAG  \n",
       "0  abnormal  \n",
       "1  abnormal  \n",
       "2            \n",
       "3  abnormal  \n",
       "4            "
      ]
     },
     "execution_count": 6,
     "metadata": {},
     "output_type": "execute_result"
    }
   ],
   "source": [
    "lab_events_df.head()"
   ]
  },
  {
   "cell_type": "code",
   "execution_count": 7,
   "metadata": {},
   "outputs": [],
   "source": [
    "# Remove rows where VALUENUM is nan\n",
    "lab_events_df = lab_events_df.loc[(lab_events_df[\"VALUENUM\"]).notna(), :]\n",
    "\n",
    "# Remove negative values\n",
    "lab_events_df = lab_events_df.loc[lab_events_df[\"VALUENUM\"] >= 0,:]\n",
    "\n",
    "# Merge with labels\n",
    "lab_events_df = lab_events_df.merge(lab_items_df[['ITEMID','LABEL']], left_on='ITEMID', right_on='ITEMID')"
   ]
  },
  {
   "cell_type": "markdown",
   "metadata": {},
   "source": [
    "### TRUTH LABELS"
   ]
  },
  {
   "cell_type": "code",
   "execution_count": 8,
   "metadata": {},
   "outputs": [],
   "source": [
    "# Column 1: SUBJECT_ID\n",
    "# Column 2: TRUTH\n",
    "# Column 3: HADM_ID\n",
    "truth_array = np.loadtxt(\"TRUTH.csv\", delimiter=',', skiprows=1)\n",
    "\n",
    "# Create a dataframe\n",
    "truth_df = pd.DataFrame(truth_array, columns=['SUBJECT_ID', 'TRUTH', 'HADM_ID'])\n",
    "\n",
    "# Convert to ints\n",
    "truth_df[\"SUBJECT_ID\"] = truth_df[\"SUBJECT_ID\"].astype(int)\n",
    "truth_df[\"TRUTH\"] = truth_df[\"TRUTH\"].astype(int)\n",
    "truth_df[\"HADM_ID\"] = truth_df[\"HADM_ID\"].astype(int)"
   ]
  },
  {
   "cell_type": "markdown",
   "metadata": {},
   "source": [
    "### GET RELEVANT ADMISSIONS"
   ]
  },
  {
   "cell_type": "code",
   "execution_count": 9,
   "metadata": {},
   "outputs": [],
   "source": [
    "# Only interested in lab events corresponding to the relevant admissions\n",
    "relevant_lab_events_df = lab_events_df.merge(truth_df, on='HADM_ID')"
   ]
  },
  {
   "cell_type": "markdown",
   "metadata": {},
   "source": [
    "### GET FEATURES"
   ]
  },
  {
   "cell_type": "code",
   "execution_count": 10,
   "metadata": {},
   "outputs": [],
   "source": [
    "meas_type = np.unique(relevant_lab_events_df[\"LABEL\"].get_values())\n",
    "subjects = np.unique(relevant_lab_events_df[\"SUBJECT_ID_x\"].get_values())"
   ]
  },
  {
   "cell_type": "code",
   "execution_count": 11,
   "metadata": {},
   "outputs": [],
   "source": [
    "# Take the mean of every measurement for every subject\n",
    "avg_df = relevant_lab_events_df.groupby(['HADM_ID', 'LABEL'], as_index = False)['VALUENUM'].mean()\n",
    "avg_df = avg_df.rename(index=str, columns={\"VALUENUM\": \"AVG\"})"
   ]
  },
  {
   "cell_type": "code",
   "execution_count": 12,
   "metadata": {},
   "outputs": [
    {
     "data": {
      "text/html": [
       "<div>\n",
       "<style scoped>\n",
       "    .dataframe tbody tr th:only-of-type {\n",
       "        vertical-align: middle;\n",
       "    }\n",
       "\n",
       "    .dataframe tbody tr th {\n",
       "        vertical-align: top;\n",
       "    }\n",
       "\n",
       "    .dataframe thead th {\n",
       "        text-align: right;\n",
       "    }\n",
       "</style>\n",
       "<table border=\"1\" class=\"dataframe\">\n",
       "  <thead>\n",
       "    <tr style=\"text-align: right;\">\n",
       "      <th></th>\n",
       "      <th>HADM_ID</th>\n",
       "      <th>LABEL</th>\n",
       "      <th>AVG</th>\n",
       "    </tr>\n",
       "  </thead>\n",
       "  <tbody>\n",
       "    <tr>\n",
       "      <th>0</th>\n",
       "      <td>100003</td>\n",
       "      <td>Oxygen Saturation</td>\n",
       "      <td>95.000000</td>\n",
       "    </tr>\n",
       "    <tr>\n",
       "      <th>1</th>\n",
       "      <td>100006</td>\n",
       "      <td>Oxygen Saturation</td>\n",
       "      <td>67.000000</td>\n",
       "    </tr>\n",
       "    <tr>\n",
       "      <th>2</th>\n",
       "      <td>100006</td>\n",
       "      <td>Temperature</td>\n",
       "      <td>36.200000</td>\n",
       "    </tr>\n",
       "    <tr>\n",
       "      <th>3</th>\n",
       "      <td>100007</td>\n",
       "      <td>Temperature</td>\n",
       "      <td>37.800000</td>\n",
       "    </tr>\n",
       "    <tr>\n",
       "      <th>4</th>\n",
       "      <td>100009</td>\n",
       "      <td>Glucose</td>\n",
       "      <td>132.833333</td>\n",
       "    </tr>\n",
       "  </tbody>\n",
       "</table>\n",
       "</div>"
      ],
      "text/plain": [
       "   HADM_ID              LABEL         AVG\n",
       "0   100003  Oxygen Saturation   95.000000\n",
       "1   100006  Oxygen Saturation   67.000000\n",
       "2   100006        Temperature   36.200000\n",
       "3   100007        Temperature   37.800000\n",
       "4   100009            Glucose  132.833333"
      ]
     },
     "execution_count": 12,
     "metadata": {},
     "output_type": "execute_result"
    }
   ],
   "source": [
    "avg_df.head()"
   ]
  },
  {
   "cell_type": "code",
   "execution_count": 13,
   "metadata": {},
   "outputs": [],
   "source": [
    "# Create separate columns for glucose average, oxygen saturation average, and temperature average\n",
    "design_mat_df = truth_df\n",
    "for meas in meas_type:\n",
    "    # Get avg of current measurement\n",
    "    meas_avg_df = avg_df.loc[avg_df[\"LABEL\"] == meas, [\"HADM_ID\", \"AVG\"]]\n",
    "    \n",
    "    # Rename\n",
    "    rename_as = meas + \"_AVG\"\n",
    "    meas_avg_df = meas_avg_df.rename(index=str, columns={\"AVG\": rename_as})\n",
    "    \n",
    "    # Merge\n",
    "    design_mat_df = design_mat_df.merge(meas_avg_df, how='left', on='HADM_ID')\n",
    "\n",
    "# Replace NaN's with 0\n",
    "design_mat_df = design_mat_df.fillna(0)"
   ]
  },
  {
   "cell_type": "code",
   "execution_count": 14,
   "metadata": {},
   "outputs": [],
   "source": [
    "# Get X and y values\n",
    "X = design_mat_df.iloc[:, 3:len(design_mat_df.columns)].get_values()\n",
    "y = design_mat_df.TRUTH.get_values()"
   ]
  },
  {
   "cell_type": "markdown",
   "metadata": {},
   "source": [
    "### CLASSIFICATION"
   ]
  },
  {
   "cell_type": "code",
   "execution_count": 15,
   "metadata": {},
   "outputs": [],
   "source": [
    "from sklearn.model_selection import train_test_split\n",
    "\n",
    "# make train and test splits\n",
    "X_train, X_test, y_train, y_test = train_test_split(X, y,test_size = 0.33, random_state = 0)"
   ]
  },
  {
   "cell_type": "code",
   "execution_count": 16,
   "metadata": {},
   "outputs": [
    {
     "name": "stderr",
     "output_type": "stream",
     "text": [
      "/Users/kevinmchu/anaconda3/lib/python3.7/site-packages/sklearn/ensemble/weight_boosting.py:29: DeprecationWarning: numpy.core.umath_tests is an internal NumPy module and should not be imported. It will be removed in a future NumPy release.\n",
      "  from numpy.core.umath_tests import inner1d\n",
      "/Users/kevinmchu/anaconda3/lib/python3.7/site-packages/sklearn/metrics/ranking.py:571: UndefinedMetricWarning: No positive samples in y_true, true positive value should be meaningless\n",
      "  UndefinedMetricWarning)\n"
     ]
    }
   ],
   "source": [
    "from sklearn import metrics\n",
    "from sklearn.ensemble import RandomForestClassifier\n",
    "clf = RandomForestClassifier(random_state=0)\n",
    "clf=clf.fit(X_train,y_train)\n",
    "y_pred = clf.predict(X_test)\n",
    "fpr, tpr, thresholds = metrics.roc_curve(y_test, y_pred, pos_label=1)\n",
    "AUC = metrics.auc(fpr, tpr)"
   ]
  },
  {
   "cell_type": "code",
   "execution_count": 19,
   "metadata": {},
   "outputs": [
    {
     "data": {
      "text/plain": [
       "0"
      ]
     },
     "execution_count": 19,
     "metadata": {},
     "output_type": "execute_result"
    }
   ],
   "source": [
    "np.sum(y_test)"
   ]
  },
  {
   "cell_type": "code",
   "execution_count": null,
   "metadata": {},
   "outputs": [],
   "source": []
  }
 ],
 "metadata": {
  "kernelspec": {
   "display_name": "Python 3",
   "language": "python",
   "name": "python3"
  },
  "language_info": {
   "codemirror_mode": {
    "name": "ipython",
    "version": 3
   },
   "file_extension": ".py",
   "mimetype": "text/x-python",
   "name": "python",
   "nbconvert_exporter": "python",
   "pygments_lexer": "ipython3",
   "version": "3.7.1"
  }
 },
 "nbformat": 4,
 "nbformat_minor": 2
}
