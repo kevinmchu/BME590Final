{
 "cells": [
  {
   "cell_type": "code",
   "execution_count": 1,
   "metadata": {},
   "outputs": [],
   "source": [
    "# Import libraries\n",
    "import pandas as pd\n",
    "import numpy as np\n",
    "from datetime import datetime as dt\n",
    "import sqlite3 # library for working with sqlite database"
   ]
  },
  {
   "cell_type": "markdown",
   "metadata": {},
   "source": [
    "### GETTING TABLES"
   ]
  },
  {
   "cell_type": "code",
   "execution_count": 2,
   "metadata": {},
   "outputs": [],
   "source": [
    "# Create connection\n",
    "conn = sqlite3.connect(\"./data/labevents_balanced.db\")\n",
    "conn2 = sqlite3.connect(\"./data/lab_events.db\") # keep this\n",
    "\n",
    "# Get dataframe\n",
    "lab_events_df = pd.read_sql(\"\"\"SELECT * FROM labevents\"\"\", conn)\n",
    "lab_items_df = pd.read_sql(\"\"\"SELECT * FROM lab_items\"\"\", conn2)"
   ]
  },
  {
   "cell_type": "markdown",
   "metadata": {},
   "source": [
    "### CREATE DATAFRAMES"
   ]
  },
  {
   "cell_type": "code",
   "execution_count": 3,
   "metadata": {},
   "outputs": [
    {
     "data": {
      "text/html": [
       "<div>\n",
       "<style scoped>\n",
       "    .dataframe tbody tr th:only-of-type {\n",
       "        vertical-align: middle;\n",
       "    }\n",
       "\n",
       "    .dataframe tbody tr th {\n",
       "        vertical-align: top;\n",
       "    }\n",
       "\n",
       "    .dataframe thead th {\n",
       "        text-align: right;\n",
       "    }\n",
       "</style>\n",
       "<table border=\"1\" class=\"dataframe\">\n",
       "  <thead>\n",
       "    <tr style=\"text-align: right;\">\n",
       "      <th></th>\n",
       "      <th>ROW_ID</th>\n",
       "      <th>SUBJECT_ID</th>\n",
       "      <th>HADM_ID</th>\n",
       "      <th>ITEMID</th>\n",
       "      <th>CHARTTIME</th>\n",
       "      <th>VALUE</th>\n",
       "      <th>VALUENUM</th>\n",
       "      <th>VALUEUOM</th>\n",
       "      <th>FLAG</th>\n",
       "      <th>LABEL</th>\n",
       "    </tr>\n",
       "  </thead>\n",
       "  <tbody>\n",
       "    <tr>\n",
       "      <th>0</th>\n",
       "      <td>12019</td>\n",
       "      <td>30</td>\n",
       "      <td>104557</td>\n",
       "      <td>50800</td>\n",
       "      <td>2172-10-14 16:06:00</td>\n",
       "      <td>ART</td>\n",
       "      <td>NaN</td>\n",
       "      <td></td>\n",
       "      <td></td>\n",
       "      <td>SPECIMEN TYPE</td>\n",
       "    </tr>\n",
       "    <tr>\n",
       "      <th>1</th>\n",
       "      <td>34727</td>\n",
       "      <td>71</td>\n",
       "      <td>111944</td>\n",
       "      <td>50800</td>\n",
       "      <td>2164-02-03 21:07:00</td>\n",
       "      <td>ART</td>\n",
       "      <td>NaN</td>\n",
       "      <td></td>\n",
       "      <td></td>\n",
       "      <td>SPECIMEN TYPE</td>\n",
       "    </tr>\n",
       "    <tr>\n",
       "      <th>2</th>\n",
       "      <td>34766</td>\n",
       "      <td>71</td>\n",
       "      <td>111944</td>\n",
       "      <td>50800</td>\n",
       "      <td>2164-02-03 23:14:00</td>\n",
       "      <td>ART</td>\n",
       "      <td>NaN</td>\n",
       "      <td></td>\n",
       "      <td></td>\n",
       "      <td>SPECIMEN TYPE</td>\n",
       "    </tr>\n",
       "    <tr>\n",
       "      <th>3</th>\n",
       "      <td>34772</td>\n",
       "      <td>71</td>\n",
       "      <td>111944</td>\n",
       "      <td>50800</td>\n",
       "      <td>2164-02-04 02:30:00</td>\n",
       "      <td>ART</td>\n",
       "      <td>NaN</td>\n",
       "      <td></td>\n",
       "      <td></td>\n",
       "      <td>SPECIMEN TYPE</td>\n",
       "    </tr>\n",
       "    <tr>\n",
       "      <th>4</th>\n",
       "      <td>32967</td>\n",
       "      <td>68</td>\n",
       "      <td>170467</td>\n",
       "      <td>50800</td>\n",
       "      <td>2173-12-15 12:39:00</td>\n",
       "      <td>ART</td>\n",
       "      <td>NaN</td>\n",
       "      <td></td>\n",
       "      <td></td>\n",
       "      <td>SPECIMEN TYPE</td>\n",
       "    </tr>\n",
       "  </tbody>\n",
       "</table>\n",
       "</div>"
      ],
      "text/plain": [
       "  ROW_ID  SUBJECT_ID  HADM_ID ITEMID            CHARTTIME VALUE  VALUENUM  \\\n",
       "0  12019          30   104557  50800  2172-10-14 16:06:00   ART       NaN   \n",
       "1  34727          71   111944  50800  2164-02-03 21:07:00   ART       NaN   \n",
       "2  34766          71   111944  50800  2164-02-03 23:14:00   ART       NaN   \n",
       "3  34772          71   111944  50800  2164-02-04 02:30:00   ART       NaN   \n",
       "4  32967          68   170467  50800  2173-12-15 12:39:00   ART       NaN   \n",
       "\n",
       "  VALUEUOM FLAG          LABEL  \n",
       "0                SPECIMEN TYPE  \n",
       "1                SPECIMEN TYPE  \n",
       "2                SPECIMEN TYPE  \n",
       "3                SPECIMEN TYPE  \n",
       "4                SPECIMEN TYPE  "
      ]
     },
     "execution_count": 3,
     "metadata": {},
     "output_type": "execute_result"
    }
   ],
   "source": [
    "# Convert to numeric data types\n",
    "lab_events_df[\"SUBJECT_ID\"] = pd.to_numeric(lab_events_df[\"SUBJECT_ID\"])\n",
    "lab_events_df[\"HADM_ID\"] = pd.to_numeric(lab_events_df[\"HADM_ID\"]).astype(int)\n",
    "lab_events_df[\"VALUENUM\"] = pd.to_numeric(lab_events_df[\"VALUENUM\"])\n",
    "\n",
    "# Merge with labels for laboratory measurements\n",
    "lab_events_df = lab_events_df.merge(lab_items_df[['ITEMID','LABEL']], left_on='ITEMID', right_on='ITEMID')\n",
    "\n",
    "lab_events_df.head()"
   ]
  },
  {
   "cell_type": "markdown",
   "metadata": {},
   "source": [
    "### TRUTH LABELS"
   ]
  },
  {
   "cell_type": "code",
   "execution_count": 4,
   "metadata": {},
   "outputs": [],
   "source": [
    "# Load in information about truth labels and corresponding admissions\n",
    "# Column 1: SUBJECT_ID\n",
    "# Column 2: TRUTH\n",
    "# Column 3: HADM_ID\n",
    "truth_array = np.loadtxt(\"csv/TRUTH.csv\", delimiter=',', skiprows=1)\n",
    "\n",
    "# Create a dataframe with truth values\n",
    "truth_df = pd.DataFrame(truth_array, columns=['SUBJECT_ID', 'TRUTH', 'HADM_ID'])\n",
    "\n",
    "# Convert to ints\n",
    "truth_df[\"SUBJECT_ID\"] = truth_df[\"SUBJECT_ID\"].astype(int)\n",
    "truth_df[\"TRUTH\"] = truth_df[\"TRUTH\"].astype(int)\n",
    "truth_df[\"HADM_ID\"] = truth_df[\"HADM_ID\"].astype(int)"
   ]
  },
  {
   "cell_type": "markdown",
   "metadata": {},
   "source": [
    "### GET RELEVANT ADMISSIONS"
   ]
  },
  {
   "cell_type": "code",
   "execution_count": 5,
   "metadata": {},
   "outputs": [],
   "source": [
    "# Only interested in lab events corresponding to the relevant admissions, i.e. those where\n",
    "# patient did not die during the first visit\n",
    "relevant_lab_events_df = lab_events_df.merge(truth_df, on='HADM_ID')\n",
    "\n",
    "# Get relevant truth labels\n",
    "hadm_df = pd.DataFrame(lab_events_df[\"HADM_ID\"].unique(), columns={'HADM_ID'})\n",
    "\n",
    "# Get updated truth_df\n",
    "relevant_truth_df = hadm_df.merge(truth_df, how='inner', on='HADM_ID')"
   ]
  },
  {
   "cell_type": "markdown",
   "metadata": {},
   "source": [
    "### GET FEATURES"
   ]
  },
  {
   "cell_type": "code",
   "execution_count": 6,
   "metadata": {},
   "outputs": [],
   "source": [
    "# Create binary variable to represent whether measurement is abnormal\n",
    "relevant_lab_events_df['ABNORMAL'] = 0\n",
    "relevant_lab_events_df.loc[relevant_lab_events_df['FLAG']=='abnormal', 'ABNORMAL'] = 1\n",
    "\n",
    "# Get proportion of measurements that are abnormal\n",
    "abnormal_df = relevant_lab_events_df.groupby(['HADM_ID', 'LABEL'], as_index = False)['ABNORMAL'].mean()\n",
    "#abnormal_df = abnormal_df.rename(index=str, columns={\"ABNORMAL\": \"AVG\"})\n",
    "\n",
    "# Get list of measurement names\n",
    "meas_type = np.unique(lab_events_df[\"LABEL\"].get_values())\n",
    "\n",
    "# Initially set design matrix equal to truth dataframe\n",
    "design_mat_df = relevant_truth_df\n",
    "\n",
    "# For all measurement types, get the proportion of abnormal values\n",
    "for meas in meas_type:\n",
    "    # Get avg of current measurement\n",
    "    curr_df = abnormal_df.loc[abnormal_df[\"LABEL\"] == meas, [\"HADM_ID\", \"ABNORMAL\"]]\n",
    "    \n",
    "    # Rename\n",
    "    rename_as = meas + \"_ABNORMAL\"\n",
    "    curr_df = curr_df.rename(index=str, columns={\"ABNORMAL\": rename_as})\n",
    "    \n",
    "    # Merge\n",
    "    design_mat_df = design_mat_df.merge(curr_df, how='left', on='HADM_ID')\n",
    "    \n",
    "# Get X and y values\n",
    "X = design_mat_df.iloc[:, 3:len(design_mat_df.columns)].get_values()\n",
    "y = design_mat_df.TRUTH.get_values()"
   ]
  },
  {
   "cell_type": "markdown",
   "metadata": {},
   "source": [
    "### SELECT FEATURES"
   ]
  },
  {
   "cell_type": "code",
   "execution_count": 7,
   "metadata": {},
   "outputs": [],
   "source": [
    "from sklearn.model_selection import train_test_split\n",
    "\n",
    "# make train and test splits\n",
    "X_train, X_test, y_train, y_test = train_test_split(X, y,test_size = 0.33, random_state = 0)\n",
    "\n",
    "# Select features that have at least 50% non-missing values in the training set\n",
    "prop_non_missing = (~np.isnan(X_train)).sum(0)/len(X_train)\n",
    "threshold = 0.5\n",
    "\n",
    "# Select same features in training and testing set\n",
    "X_train = X_train[:, prop_non_missing > threshold]\n",
    "X_test = X_test[:, prop_non_missing > threshold]"
   ]
  },
  {
   "cell_type": "code",
   "execution_count": 8,
   "metadata": {
    "scrolled": true
   },
   "outputs": [
    {
     "name": "stdout",
     "output_type": "stream",
     "text": [
      "Index(['Alanine Aminotransferase (ALT)_ABNORMAL', 'Albumin_ABNORMAL',\n",
      "       'Alkaline Phosphatase_ABNORMAL', 'Anion Gap_ABNORMAL',\n",
      "       'Asparate Aminotransferase (AST)_ABNORMAL', 'Base Excess_ABNORMAL',\n",
      "       'Basophils_ABNORMAL', 'Bicarbonate_ABNORMAL', 'Bilirubin_ABNORMAL',\n",
      "       'Bilirubin, Total_ABNORMAL', 'Blood_ABNORMAL',\n",
      "       'Calcium, Total_ABNORMAL', 'Calculated Total CO2_ABNORMAL',\n",
      "       'Chloride_ABNORMAL', 'Creatinine_ABNORMAL', 'Eosinophils_ABNORMAL',\n",
      "       'Epithelial Cells_ABNORMAL', 'Glucose_ABNORMAL', 'Hematocrit_ABNORMAL',\n",
      "       'Hemoglobin_ABNORMAL', 'INR(PT)_ABNORMAL', 'Ketone_ABNORMAL',\n",
      "       'Lactate_ABNORMAL', 'Leukocytes_ABNORMAL', 'Lymphocytes_ABNORMAL',\n",
      "       'MCH_ABNORMAL', 'MCHC_ABNORMAL', 'MCV_ABNORMAL', 'Magnesium_ABNORMAL',\n",
      "       'Monocytes_ABNORMAL', 'Neutrophils_ABNORMAL', 'Nitrite_ABNORMAL',\n",
      "       'PT_ABNORMAL', 'PTT_ABNORMAL', 'Phosphate_ABNORMAL',\n",
      "       'Platelet Count_ABNORMAL', 'Potassium_ABNORMAL',\n",
      "       'Potassium, Whole Blood_ABNORMAL', 'Protein_ABNORMAL', 'RBC_ABNORMAL',\n",
      "       'RDW_ABNORMAL', 'Red Blood Cells_ABNORMAL', 'Sodium_ABNORMAL',\n",
      "       'Specific Gravity_ABNORMAL', 'Urea Nitrogen_ABNORMAL',\n",
      "       'Urine Appearance_ABNORMAL', 'Urine Color_ABNORMAL',\n",
      "       'Urobilinogen_ABNORMAL', 'WBC_ABNORMAL', 'White Blood Cells_ABNORMAL',\n",
      "       'Yeast_ABNORMAL', 'pCO2_ABNORMAL', 'pH_ABNORMAL', 'pO2_ABNORMAL'],\n",
      "      dtype='object')\n"
     ]
    }
   ],
   "source": [
    "# Get names of selected features\n",
    "all_columns = design_mat_df.iloc[:, 3:len(design_mat_df.columns)].columns\n",
    "selected_features_list = all_columns[prop_non_missing > threshold]\n",
    "print(selected_features_list)"
   ]
  },
  {
   "cell_type": "code",
   "execution_count": 9,
   "metadata": {},
   "outputs": [],
   "source": [
    "# Here, we include additional features to indicate the presence of any remaining missing values\n",
    "missing_train = np.isnan(X_train).astype(int)\n",
    "missing_test = np.isnan(X_test).astype(int)\n",
    "\n",
    "# Concatenate to existing X matrices\n",
    "X_train = np.concatenate((X_train, missing_train), axis=1)\n",
    "X_test = np.concatenate((X_test, missing_test), axis=1)"
   ]
  },
  {
   "cell_type": "markdown",
   "metadata": {},
   "source": [
    "### DEAL WITH MISSING VALUES"
   ]
  },
  {
   "cell_type": "code",
   "execution_count": 10,
   "metadata": {},
   "outputs": [],
   "source": [
    "# Replace NaN values\n",
    "X_train[np.isnan(X_train)] = 0\n",
    "X_test[np.isnan(X_test)] = 0"
   ]
  },
  {
   "cell_type": "markdown",
   "metadata": {},
   "source": [
    "### VISUALIZATION"
   ]
  },
  {
   "cell_type": "code",
   "execution_count": 11,
   "metadata": {},
   "outputs": [],
   "source": [
    "# Visualize in 2D using TSNE\n",
    "# import matplotlib.pyplot as plt\n",
    "# from sklearn.manifold import TSNE\n",
    "\n",
    "# tsne = TSNE(n_components=2)\n",
    "# X_tsne = tsne.fit_transform(X_train)\n",
    "\n",
    "# Plot\n",
    "# plt.scatter(X_tsne[y_train==0, 0], X_tsne[y_train==0, 1])\n",
    "# plt.scatter(X_tsne[y_train==1, 0], X_tsne[y_train==1, 1])\n",
    "# plt.show()"
   ]
  },
  {
   "cell_type": "markdown",
   "metadata": {},
   "source": [
    "### VALIDATION"
   ]
  },
  {
   "cell_type": "code",
   "execution_count": 12,
   "metadata": {},
   "outputs": [],
   "source": [
    "#from sklearn.svm import SVC\n",
    "#from sklearn.metrics import roc_auc_score\n",
    "\n",
    "## make train and validation splits\n",
    "#X_train_sub, X_val, y_train_sub, y_val = train_test_split(X_train, y_train, test_size = 0.33, random_state = 1)\n",
    "\n",
    "#nfeatures = np.shape(X_train)[1]\n",
    "\n",
    "## Costs\n",
    "#costs = np.array([0.25, 0.5, 1, 2, 4])\n",
    "#gammas = np.array([0.5/nfeatures, 1/nfeatures, 2/nfeatures])\n",
    "\n",
    "## Preallocate\n",
    "#aucs = np.zeros((len(costs), len(gammas)))\n",
    "\n",
    "#for i, cost in enumerate(costs):\n",
    "#    for j, gam in enumerate(gammas):\n",
    "#        svm = SVC(C=cost, gamma=gam)\n",
    "#        svm.fit(X_train_sub, y_train_sub)\n",
    "#        y_pred = svm.decision_function(X_val)\n",
    "#        aucs[i, j] = roc_auc_score(y_val, y_pred)\n",
    "        "
   ]
  },
  {
   "cell_type": "code",
   "execution_count": null,
   "metadata": {},
   "outputs": [],
   "source": [
    "#from scipy import stats\n",
    "#from sklearn.metrics import roc_auc_score\n",
    "#from sklearn.model_selection import RandomizedSearchCV\n",
    "\n",
    "#params_grid = {\n",
    "#    'n_estimators': np.arange(20, 151),\n",
    "#    'subsample': stats.uniform(),\n",
    "#    'min_samples_split': np.arange(2, 10),\n",
    "#    'max_depth': np.arange(2,5)\n",
    "#}\n",
    "\n",
    "#bst_grid = RandomizedSearchCV(\n",
    "#    estimator = GradientBoostingClassifier(),\n",
    "#    param_distributions = params_grid,\n",
    "#    n_iter = 10,\n",
    "#    cv = cv,\n",
    "#    n_jobs = -1,\n",
    "#    verbose = 3,\n",
    "#    scoring = 'accuracy')\n",
    "\n",
    "#bst_grid.fit(X_train, y_train)\n",
    "\n",
    "#y_pred = bst_grid.best_estimator_.predict_proba(X_test)[:,1]\n",
    "\n",
    "#roc_auc_score(y_test, y_pred)"
   ]
  },
  {
   "cell_type": "markdown",
   "metadata": {},
   "source": [
    "### CLASSIFICATION"
   ]
  },
  {
   "cell_type": "code",
   "execution_count": 14,
   "metadata": {},
   "outputs": [],
   "source": [
    "from sklearn.svm import SVC\n",
    "\n",
    "# Run classifier\n",
    "svm = SVC(C=1.0, gamma='auto')\n",
    "svm.fit(X_train, y_train)\n",
    "y_pred = svm.decision_function(X_test)"
   ]
  },
  {
   "cell_type": "markdown",
   "metadata": {},
   "source": [
    "### EVALUATION"
   ]
  },
  {
   "cell_type": "code",
   "execution_count": 15,
   "metadata": {},
   "outputs": [
    {
     "name": "stdout",
     "output_type": "stream",
     "text": [
      "0.6534332167293688\n"
     ]
    }
   ],
   "source": [
    "from sklearn import metrics\n",
    "\n",
    "fpr, tpr, thresholds = metrics.roc_curve(y_test, y_pred, pos_label=1)\n",
    "AUC = metrics.auc(fpr, tpr)\n",
    "print(AUC)"
   ]
  }
 ],
 "metadata": {
  "kernelspec": {
   "display_name": "Python 3",
   "language": "python",
   "name": "python3"
  },
  "language_info": {
   "codemirror_mode": {
    "name": "ipython",
    "version": 3
   },
   "file_extension": ".py",
   "mimetype": "text/x-python",
   "name": "python",
   "nbconvert_exporter": "python",
   "pygments_lexer": "ipython3",
   "version": "3.7.1"
  }
 },
 "nbformat": 4,
 "nbformat_minor": 2
}
