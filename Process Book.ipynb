{
 "cells": [
  {
   "cell_type": "markdown",
   "metadata": {},
   "source": [
    "# Data Science and Health Final Project"
   ]
  },
  {
   "cell_type": "markdown",
   "metadata": {},
   "source": [
    "## SECTION I: OVERVIEW AND BACKGROUND"
   ]
  },
  {
   "cell_type": "markdown",
   "metadata": {},
   "source": [
    "The rise of machine learning and data science have allowed for significant innovation within many fields--particularly in healthcare, where there is a high potential for impact through life-saving solutions and increased hospital efficiencies. The underlying concept is to utilize previous patient experiences (and the associated data) to make predictions that could both improve conditions for future patients, increase efficiency for overbooked physicians, and greatly reduce healthcare costs. The ultimate goal in this work was to develop an algorithm that utilizes the MIMIC-III database to predict the likelihood of patient readmission within 30 days of hospital discharge. The MIMIC-III database is a collection of patient data from intensive care unit hospital stays.\n",
    "\n",
    "This sort of algorithm implemented in a hospital setting has great potential to improve outcomes for patients, assist physicians, and reduce healthcare costs. Particularly, hospital readmissions are a large source of healthcare costs and identifying patients that are of higher risk of readmission would lead to greater care prior to their initial discharge. Specifically, if a patient is readmitted within 30 days, it is likely that they were not healthy enough to leave the hospital at the time of discharge. In order to prevent this occurrence, there are financial penalties to incentivize hospitals to only discharge patients when they are stable enough to be discharged. Therefore, an algorithm that identifies patients who are at higher risk for a 30 day readmission would be hugely beneficial to the doctors caring for those patients. The doctors would then be able to exercise extreme caution when discharging these patients, ensuring they are in a stable enough condition to leave care. This extra caution would benefit doctors, hospitals, and most importantly the health of patients."
   ]
  },
  {
   "cell_type": "markdown",
   "metadata": {},
   "source": [
    "## SECTION II: DATA"
   ]
  },
  {
   "cell_type": "markdown",
   "metadata": {},
   "source": [
    "### 1. Admissions and Patient Info"
   ]
  },
  {
   "cell_type": "markdown",
   "metadata": {},
   "source": [
    "#### a. Import Data"
   ]
  },
  {
   "cell_type": "code",
   "execution_count": 1,
   "metadata": {
    "ExecuteTime": {
     "end_time": "2019-05-01T17:46:48.743307Z",
     "start_time": "2019-05-01T17:46:47.997652Z"
    }
   },
   "outputs": [],
   "source": [
    "import pandas as pd\n",
    "import numpy as np\n",
    "from datetime import datetime as dt\n",
    "import sqlite3 # library for working with sqlite database\n",
    "conn = sqlite3.connect(\"./data/data.db\") # Create a connection to the on-disk database"
   ]
  },
  {
   "cell_type": "markdown",
   "metadata": {},
   "source": [
    "The tables that were included in our data.db file are shown below. Lab events tables were dealt with separately."
   ]
  },
  {
   "cell_type": "code",
   "execution_count": 2,
   "metadata": {
    "ExecuteTime": {
     "end_time": "2019-05-01T17:46:49.054946Z",
     "start_time": "2019-05-01T17:46:48.746937Z"
    }
   },
   "outputs": [
    {
     "data": {
      "text/html": [
       "<div>\n",
       "<style scoped>\n",
       "    .dataframe tbody tr th:only-of-type {\n",
       "        vertical-align: middle;\n",
       "    }\n",
       "\n",
       "    .dataframe tbody tr th {\n",
       "        vertical-align: top;\n",
       "    }\n",
       "\n",
       "    .dataframe thead th {\n",
       "        text-align: right;\n",
       "    }\n",
       "</style>\n",
       "<table border=\"1\" class=\"dataframe\">\n",
       "  <thead>\n",
       "    <tr style=\"text-align: right;\">\n",
       "      <th></th>\n",
       "      <th>type</th>\n",
       "      <th>name</th>\n",
       "      <th>tbl_name</th>\n",
       "      <th>rootpage</th>\n",
       "      <th>sql</th>\n",
       "    </tr>\n",
       "  </thead>\n",
       "  <tbody>\n",
       "    <tr>\n",
       "      <th>0</th>\n",
       "      <td>table</td>\n",
       "      <td>patients</td>\n",
       "      <td>patients</td>\n",
       "      <td>2</td>\n",
       "      <td>CREATE TABLE patients(ROW_ID INT,SUBJECT_ID IN...</td>\n",
       "    </tr>\n",
       "    <tr>\n",
       "      <th>1</th>\n",
       "      <td>table</td>\n",
       "      <td>admissions</td>\n",
       "      <td>admissions</td>\n",
       "      <td>639</td>\n",
       "      <td>CREATE TABLE admissions(ROW_ID INT,SUBJECT_ID ...</td>\n",
       "    </tr>\n",
       "    <tr>\n",
       "      <th>2</th>\n",
       "      <td>table</td>\n",
       "      <td>icustays</td>\n",
       "      <td>icustays</td>\n",
       "      <td>3515</td>\n",
       "      <td>CREATE TABLE icustays(ROW_ID INT,SUBJECT_ID IN...</td>\n",
       "    </tr>\n",
       "    <tr>\n",
       "      <th>3</th>\n",
       "      <td>table</td>\n",
       "      <td>diagnoses_icd</td>\n",
       "      <td>diagnoses_icd</td>\n",
       "      <td>4944</td>\n",
       "      <td>CREATE TABLE diagnoses_icd(ROW_ID INT,SUBJECT_...</td>\n",
       "    </tr>\n",
       "    <tr>\n",
       "      <th>4</th>\n",
       "      <td>table</td>\n",
       "      <td>drgcodes</td>\n",
       "      <td>drgcodes</td>\n",
       "      <td>9061</td>\n",
       "      <td>CREATE TABLE drgcodes(ROW_ID INT,SUBJECT_ID IN...</td>\n",
       "    </tr>\n",
       "  </tbody>\n",
       "</table>\n",
       "</div>"
      ],
      "text/plain": [
       "    type           name       tbl_name  rootpage  \\\n",
       "0  table       patients       patients         2   \n",
       "1  table     admissions     admissions       639   \n",
       "2  table       icustays       icustays      3515   \n",
       "3  table  diagnoses_icd  diagnoses_icd      4944   \n",
       "4  table       drgcodes       drgcodes      9061   \n",
       "\n",
       "                                                 sql  \n",
       "0  CREATE TABLE patients(ROW_ID INT,SUBJECT_ID IN...  \n",
       "1  CREATE TABLE admissions(ROW_ID INT,SUBJECT_ID ...  \n",
       "2  CREATE TABLE icustays(ROW_ID INT,SUBJECT_ID IN...  \n",
       "3  CREATE TABLE diagnoses_icd(ROW_ID INT,SUBJECT_...  \n",
       "4  CREATE TABLE drgcodes(ROW_ID INT,SUBJECT_ID IN...  "
      ]
     },
     "execution_count": 2,
     "metadata": {},
     "output_type": "execute_result"
    }
   ],
   "source": [
    "pd.read_sql(\"SELECT * FROM sqlite_master where type='table'\", conn)"
   ]
  },
  {
   "cell_type": "markdown",
   "metadata": {},
   "source": [
    "The features incorporated in the admissions table are as follows. HADM_ID, ADMITTTIME, DISCHTIME, and HOSPITAL_EXPIRE_FLAG are the relevant columns."
   ]
  },
  {
   "cell_type": "code",
   "execution_count": 3,
   "metadata": {
    "ExecuteTime": {
     "end_time": "2019-05-01T17:46:49.183766Z",
     "start_time": "2019-05-01T17:46:49.060708Z"
    }
   },
   "outputs": [
    {
     "name": "stdout",
     "output_type": "stream",
     "text": [
      "(58976, 19)\n"
     ]
    },
    {
     "data": {
      "text/html": [
       "<div>\n",
       "<style scoped>\n",
       "    .dataframe tbody tr th:only-of-type {\n",
       "        vertical-align: middle;\n",
       "    }\n",
       "\n",
       "    .dataframe tbody tr th {\n",
       "        vertical-align: top;\n",
       "    }\n",
       "\n",
       "    .dataframe thead th {\n",
       "        text-align: right;\n",
       "    }\n",
       "</style>\n",
       "<table border=\"1\" class=\"dataframe\">\n",
       "  <thead>\n",
       "    <tr style=\"text-align: right;\">\n",
       "      <th></th>\n",
       "      <th>ROW_ID</th>\n",
       "      <th>SUBJECT_ID</th>\n",
       "      <th>HADM_ID</th>\n",
       "      <th>ADMITTIME</th>\n",
       "      <th>DISCHTIME</th>\n",
       "      <th>DEATHTIME</th>\n",
       "      <th>ADMISSION_TYPE</th>\n",
       "      <th>ADMISSION_LOCATION</th>\n",
       "      <th>DISCHARGE_LOCATION</th>\n",
       "      <th>INSURANCE</th>\n",
       "      <th>LANGUAGE</th>\n",
       "      <th>RELIGION</th>\n",
       "      <th>MARITAL_STATUS</th>\n",
       "      <th>ETHNICITY</th>\n",
       "      <th>EDREGTIME</th>\n",
       "      <th>EDOUTTIME</th>\n",
       "      <th>DIAGNOSIS</th>\n",
       "      <th>HOSPITAL_EXPIRE_FLAG</th>\n",
       "      <th>HAS_CHARTEVENTS_DATA</th>\n",
       "    </tr>\n",
       "  </thead>\n",
       "  <tbody>\n",
       "    <tr>\n",
       "      <th>0</th>\n",
       "      <td>21</td>\n",
       "      <td>22</td>\n",
       "      <td>165315</td>\n",
       "      <td>2196-04-09 12:26:00</td>\n",
       "      <td>2196-04-10 15:54:00</td>\n",
       "      <td></td>\n",
       "      <td>EMERGENCY</td>\n",
       "      <td>EMERGENCY ROOM ADMIT</td>\n",
       "      <td>DISC-TRAN CANCER/CHLDRN H</td>\n",
       "      <td>Private</td>\n",
       "      <td></td>\n",
       "      <td>UNOBTAINABLE</td>\n",
       "      <td>MARRIED</td>\n",
       "      <td>WHITE</td>\n",
       "      <td>2196-04-09 10:06:00</td>\n",
       "      <td>2196-04-09 13:24:00</td>\n",
       "      <td>BENZODIAZEPINE OVERDOSE</td>\n",
       "      <td>0</td>\n",
       "      <td>1</td>\n",
       "    </tr>\n",
       "    <tr>\n",
       "      <th>1</th>\n",
       "      <td>22</td>\n",
       "      <td>23</td>\n",
       "      <td>152223</td>\n",
       "      <td>2153-09-03 07:15:00</td>\n",
       "      <td>2153-09-08 19:10:00</td>\n",
       "      <td></td>\n",
       "      <td>ELECTIVE</td>\n",
       "      <td>PHYS REFERRAL/NORMAL DELI</td>\n",
       "      <td>HOME HEALTH CARE</td>\n",
       "      <td>Medicare</td>\n",
       "      <td></td>\n",
       "      <td>CATHOLIC</td>\n",
       "      <td>MARRIED</td>\n",
       "      <td>WHITE</td>\n",
       "      <td></td>\n",
       "      <td></td>\n",
       "      <td>CORONARY ARTERY DISEASE\\CORONARY ARTERY BYPASS...</td>\n",
       "      <td>0</td>\n",
       "      <td>1</td>\n",
       "    </tr>\n",
       "    <tr>\n",
       "      <th>2</th>\n",
       "      <td>23</td>\n",
       "      <td>23</td>\n",
       "      <td>124321</td>\n",
       "      <td>2157-10-18 19:34:00</td>\n",
       "      <td>2157-10-25 14:00:00</td>\n",
       "      <td></td>\n",
       "      <td>EMERGENCY</td>\n",
       "      <td>TRANSFER FROM HOSP/EXTRAM</td>\n",
       "      <td>HOME HEALTH CARE</td>\n",
       "      <td>Medicare</td>\n",
       "      <td>ENGL</td>\n",
       "      <td>CATHOLIC</td>\n",
       "      <td>MARRIED</td>\n",
       "      <td>WHITE</td>\n",
       "      <td></td>\n",
       "      <td></td>\n",
       "      <td>BRAIN MASS</td>\n",
       "      <td>0</td>\n",
       "      <td>1</td>\n",
       "    </tr>\n",
       "    <tr>\n",
       "      <th>3</th>\n",
       "      <td>24</td>\n",
       "      <td>24</td>\n",
       "      <td>161859</td>\n",
       "      <td>2139-06-06 16:14:00</td>\n",
       "      <td>2139-06-09 12:48:00</td>\n",
       "      <td></td>\n",
       "      <td>EMERGENCY</td>\n",
       "      <td>TRANSFER FROM HOSP/EXTRAM</td>\n",
       "      <td>HOME</td>\n",
       "      <td>Private</td>\n",
       "      <td></td>\n",
       "      <td>PROTESTANT QUAKER</td>\n",
       "      <td>SINGLE</td>\n",
       "      <td>WHITE</td>\n",
       "      <td></td>\n",
       "      <td></td>\n",
       "      <td>INTERIOR MYOCARDIAL INFARCTION</td>\n",
       "      <td>0</td>\n",
       "      <td>1</td>\n",
       "    </tr>\n",
       "    <tr>\n",
       "      <th>4</th>\n",
       "      <td>25</td>\n",
       "      <td>25</td>\n",
       "      <td>129635</td>\n",
       "      <td>2160-11-02 02:06:00</td>\n",
       "      <td>2160-11-05 14:55:00</td>\n",
       "      <td></td>\n",
       "      <td>EMERGENCY</td>\n",
       "      <td>EMERGENCY ROOM ADMIT</td>\n",
       "      <td>HOME</td>\n",
       "      <td>Private</td>\n",
       "      <td></td>\n",
       "      <td>UNOBTAINABLE</td>\n",
       "      <td>MARRIED</td>\n",
       "      <td>WHITE</td>\n",
       "      <td>2160-11-02 01:01:00</td>\n",
       "      <td>2160-11-02 04:27:00</td>\n",
       "      <td>ACUTE CORONARY SYNDROME</td>\n",
       "      <td>0</td>\n",
       "      <td>1</td>\n",
       "    </tr>\n",
       "  </tbody>\n",
       "</table>\n",
       "</div>"
      ],
      "text/plain": [
       "   ROW_ID  SUBJECT_ID  HADM_ID            ADMITTIME            DISCHTIME  \\\n",
       "0      21          22   165315  2196-04-09 12:26:00  2196-04-10 15:54:00   \n",
       "1      22          23   152223  2153-09-03 07:15:00  2153-09-08 19:10:00   \n",
       "2      23          23   124321  2157-10-18 19:34:00  2157-10-25 14:00:00   \n",
       "3      24          24   161859  2139-06-06 16:14:00  2139-06-09 12:48:00   \n",
       "4      25          25   129635  2160-11-02 02:06:00  2160-11-05 14:55:00   \n",
       "\n",
       "  DEATHTIME ADMISSION_TYPE         ADMISSION_LOCATION  \\\n",
       "0                EMERGENCY       EMERGENCY ROOM ADMIT   \n",
       "1                 ELECTIVE  PHYS REFERRAL/NORMAL DELI   \n",
       "2                EMERGENCY  TRANSFER FROM HOSP/EXTRAM   \n",
       "3                EMERGENCY  TRANSFER FROM HOSP/EXTRAM   \n",
       "4                EMERGENCY       EMERGENCY ROOM ADMIT   \n",
       "\n",
       "          DISCHARGE_LOCATION INSURANCE LANGUAGE           RELIGION  \\\n",
       "0  DISC-TRAN CANCER/CHLDRN H   Private                UNOBTAINABLE   \n",
       "1           HOME HEALTH CARE  Medicare                    CATHOLIC   \n",
       "2           HOME HEALTH CARE  Medicare     ENGL           CATHOLIC   \n",
       "3                       HOME   Private           PROTESTANT QUAKER   \n",
       "4                       HOME   Private                UNOBTAINABLE   \n",
       "\n",
       "  MARITAL_STATUS ETHNICITY            EDREGTIME            EDOUTTIME  \\\n",
       "0        MARRIED     WHITE  2196-04-09 10:06:00  2196-04-09 13:24:00   \n",
       "1        MARRIED     WHITE                                             \n",
       "2        MARRIED     WHITE                                             \n",
       "3         SINGLE     WHITE                                             \n",
       "4        MARRIED     WHITE  2160-11-02 01:01:00  2160-11-02 04:27:00   \n",
       "\n",
       "                                           DIAGNOSIS  HOSPITAL_EXPIRE_FLAG  \\\n",
       "0                            BENZODIAZEPINE OVERDOSE                     0   \n",
       "1  CORONARY ARTERY DISEASE\\CORONARY ARTERY BYPASS...                     0   \n",
       "2                                         BRAIN MASS                     0   \n",
       "3                     INTERIOR MYOCARDIAL INFARCTION                     0   \n",
       "4                            ACUTE CORONARY SYNDROME                     0   \n",
       "\n",
       "   HAS_CHARTEVENTS_DATA  \n",
       "0                     1  \n",
       "1                     1  \n",
       "2                     1  \n",
       "3                     1  \n",
       "4                     1  "
      ]
     },
     "execution_count": 3,
     "metadata": {},
     "output_type": "execute_result"
    }
   ],
   "source": [
    "all_admissions = pd.read_sql(\"\"\"SELECT * FROM admissions\"\"\", conn)\n",
    "print(all_admissions.shape)\n",
    "all_admissions.head()"
   ]
  },
  {
   "cell_type": "markdown",
   "metadata": {},
   "source": [
    "The relevant columns from the admissions table, sorted by SUBJECT_ID, are then extracted:"
   ]
  },
  {
   "cell_type": "code",
   "execution_count": 4,
   "metadata": {
    "ExecuteTime": {
     "end_time": "2019-05-01T17:46:50.673449Z",
     "start_time": "2019-05-01T17:46:50.005703Z"
    }
   },
   "outputs": [
    {
     "data": {
      "text/html": [
       "<div>\n",
       "<style scoped>\n",
       "    .dataframe tbody tr th:only-of-type {\n",
       "        vertical-align: middle;\n",
       "    }\n",
       "\n",
       "    .dataframe tbody tr th {\n",
       "        vertical-align: top;\n",
       "    }\n",
       "\n",
       "    .dataframe thead th {\n",
       "        text-align: right;\n",
       "    }\n",
       "</style>\n",
       "<table border=\"1\" class=\"dataframe\">\n",
       "  <thead>\n",
       "    <tr style=\"text-align: right;\">\n",
       "      <th></th>\n",
       "      <th>ROW_ID</th>\n",
       "      <th>SUBJECT_ID</th>\n",
       "      <th>HADM_ID</th>\n",
       "      <th>ADMITTIME</th>\n",
       "      <th>DISCHTIME</th>\n",
       "      <th>DEATHTIME</th>\n",
       "      <th>ADMISSION_TYPE</th>\n",
       "      <th>ADMISSION_LOCATION</th>\n",
       "      <th>DISCHARGE_LOCATION</th>\n",
       "      <th>INSURANCE</th>\n",
       "      <th>LANGUAGE</th>\n",
       "      <th>RELIGION</th>\n",
       "      <th>MARITAL_STATUS</th>\n",
       "      <th>ETHNICITY</th>\n",
       "      <th>EDREGTIME</th>\n",
       "      <th>EDOUTTIME</th>\n",
       "      <th>DIAGNOSIS</th>\n",
       "      <th>HOSPITAL_EXPIRE_FLAG</th>\n",
       "      <th>HAS_CHARTEVENTS_DATA</th>\n",
       "    </tr>\n",
       "  </thead>\n",
       "  <tbody>\n",
       "    <tr>\n",
       "      <th>216</th>\n",
       "      <td>6</td>\n",
       "      <td>7</td>\n",
       "      <td>118037</td>\n",
       "      <td>2121-05-23 15:05:00</td>\n",
       "      <td>2121-05-27 11:57:00</td>\n",
       "      <td></td>\n",
       "      <td>NEWBORN</td>\n",
       "      <td>PHYS REFERRAL/NORMAL DELI</td>\n",
       "      <td>HOME</td>\n",
       "      <td>Private</td>\n",
       "      <td></td>\n",
       "      <td>CATHOLIC</td>\n",
       "      <td></td>\n",
       "      <td>WHITE</td>\n",
       "      <td></td>\n",
       "      <td></td>\n",
       "      <td>NEWBORN</td>\n",
       "      <td>0</td>\n",
       "      <td>1</td>\n",
       "    </tr>\n",
       "    <tr>\n",
       "      <th>217</th>\n",
       "      <td>7</td>\n",
       "      <td>8</td>\n",
       "      <td>159514</td>\n",
       "      <td>2117-11-20 10:22:00</td>\n",
       "      <td>2117-11-24 14:20:00</td>\n",
       "      <td></td>\n",
       "      <td>NEWBORN</td>\n",
       "      <td>PHYS REFERRAL/NORMAL DELI</td>\n",
       "      <td>HOME</td>\n",
       "      <td>Private</td>\n",
       "      <td></td>\n",
       "      <td>CATHOLIC</td>\n",
       "      <td></td>\n",
       "      <td>WHITE</td>\n",
       "      <td></td>\n",
       "      <td></td>\n",
       "      <td>NEWBORN</td>\n",
       "      <td>0</td>\n",
       "      <td>1</td>\n",
       "    </tr>\n",
       "    <tr>\n",
       "      <th>218</th>\n",
       "      <td>8</td>\n",
       "      <td>9</td>\n",
       "      <td>150750</td>\n",
       "      <td>2149-11-09 13:06:00</td>\n",
       "      <td>2149-11-14 10:15:00</td>\n",
       "      <td>2149-11-14 10:15:00</td>\n",
       "      <td>EMERGENCY</td>\n",
       "      <td>EMERGENCY ROOM ADMIT</td>\n",
       "      <td>DEAD/EXPIRED</td>\n",
       "      <td>Medicaid</td>\n",
       "      <td></td>\n",
       "      <td>UNOBTAINABLE</td>\n",
       "      <td></td>\n",
       "      <td>UNKNOWN/NOT SPECIFIED</td>\n",
       "      <td>2149-11-09 11:13:00</td>\n",
       "      <td>2149-11-09 13:18:00</td>\n",
       "      <td>HEMORRHAGIC CVA</td>\n",
       "      <td>1</td>\n",
       "      <td>1</td>\n",
       "    </tr>\n",
       "    <tr>\n",
       "      <th>219</th>\n",
       "      <td>9</td>\n",
       "      <td>10</td>\n",
       "      <td>184167</td>\n",
       "      <td>2103-06-28 11:36:00</td>\n",
       "      <td>2103-07-06 12:10:00</td>\n",
       "      <td></td>\n",
       "      <td>NEWBORN</td>\n",
       "      <td>PHYS REFERRAL/NORMAL DELI</td>\n",
       "      <td>SHORT TERM HOSPITAL</td>\n",
       "      <td>Medicaid</td>\n",
       "      <td></td>\n",
       "      <td>UNOBTAINABLE</td>\n",
       "      <td></td>\n",
       "      <td>BLACK/AFRICAN AMERICAN</td>\n",
       "      <td></td>\n",
       "      <td></td>\n",
       "      <td>NEWBORN</td>\n",
       "      <td>0</td>\n",
       "      <td>1</td>\n",
       "    </tr>\n",
       "    <tr>\n",
       "      <th>220</th>\n",
       "      <td>10</td>\n",
       "      <td>11</td>\n",
       "      <td>194540</td>\n",
       "      <td>2178-04-16 06:18:00</td>\n",
       "      <td>2178-05-11 19:00:00</td>\n",
       "      <td></td>\n",
       "      <td>EMERGENCY</td>\n",
       "      <td>EMERGENCY ROOM ADMIT</td>\n",
       "      <td>HOME HEALTH CARE</td>\n",
       "      <td>Private</td>\n",
       "      <td></td>\n",
       "      <td>OTHER</td>\n",
       "      <td>MARRIED</td>\n",
       "      <td>WHITE</td>\n",
       "      <td>2178-04-15 20:46:00</td>\n",
       "      <td>2178-04-16 06:53:00</td>\n",
       "      <td>BRAIN MASS</td>\n",
       "      <td>0</td>\n",
       "      <td>1</td>\n",
       "    </tr>\n",
       "  </tbody>\n",
       "</table>\n",
       "</div>"
      ],
      "text/plain": [
       "     ROW_ID  SUBJECT_ID  HADM_ID            ADMITTIME            DISCHTIME  \\\n",
       "216       6           7   118037  2121-05-23 15:05:00  2121-05-27 11:57:00   \n",
       "217       7           8   159514  2117-11-20 10:22:00  2117-11-24 14:20:00   \n",
       "218       8           9   150750  2149-11-09 13:06:00  2149-11-14 10:15:00   \n",
       "219       9          10   184167  2103-06-28 11:36:00  2103-07-06 12:10:00   \n",
       "220      10          11   194540  2178-04-16 06:18:00  2178-05-11 19:00:00   \n",
       "\n",
       "               DEATHTIME ADMISSION_TYPE         ADMISSION_LOCATION  \\\n",
       "216                             NEWBORN  PHYS REFERRAL/NORMAL DELI   \n",
       "217                             NEWBORN  PHYS REFERRAL/NORMAL DELI   \n",
       "218  2149-11-14 10:15:00      EMERGENCY       EMERGENCY ROOM ADMIT   \n",
       "219                             NEWBORN  PHYS REFERRAL/NORMAL DELI   \n",
       "220                           EMERGENCY       EMERGENCY ROOM ADMIT   \n",
       "\n",
       "      DISCHARGE_LOCATION INSURANCE LANGUAGE      RELIGION MARITAL_STATUS  \\\n",
       "216                 HOME   Private               CATHOLIC                  \n",
       "217                 HOME   Private               CATHOLIC                  \n",
       "218         DEAD/EXPIRED  Medicaid           UNOBTAINABLE                  \n",
       "219  SHORT TERM HOSPITAL  Medicaid           UNOBTAINABLE                  \n",
       "220     HOME HEALTH CARE   Private                  OTHER        MARRIED   \n",
       "\n",
       "                  ETHNICITY            EDREGTIME            EDOUTTIME  \\\n",
       "216                   WHITE                                             \n",
       "217                   WHITE                                             \n",
       "218   UNKNOWN/NOT SPECIFIED  2149-11-09 11:13:00  2149-11-09 13:18:00   \n",
       "219  BLACK/AFRICAN AMERICAN                                             \n",
       "220                   WHITE  2178-04-15 20:46:00  2178-04-16 06:53:00   \n",
       "\n",
       "           DIAGNOSIS  HOSPITAL_EXPIRE_FLAG  HAS_CHARTEVENTS_DATA  \n",
       "216          NEWBORN                     0                     1  \n",
       "217          NEWBORN                     0                     1  \n",
       "218  HEMORRHAGIC CVA                     1                     1  \n",
       "219          NEWBORN                     0                     1  \n",
       "220       BRAIN MASS                     0                     1  "
      ]
     },
     "execution_count": 4,
     "metadata": {},
     "output_type": "execute_result"
    }
   ],
   "source": [
    "all_admissions = all_admissions.sort_values('SUBJECT_ID')\n",
    "all_admissions_info = all_admissions[['SUBJECT_ID', 'HADM_ID', 'HOSPITAL_EXPIRE_FLAG']]\n",
    "all_admissions[5:10]"
   ]
  },
  {
   "cell_type": "markdown",
   "metadata": {},
   "source": [
    "#### b. Patient Selection"
   ]
  },
  {
   "cell_type": "markdown",
   "metadata": {},
   "source": [
    "Two dataframes with subsets of relevant patients ('one_admission', 'mult_admissions') are extracted from the database in order to create a 'relevant_patients' dataframe.\n",
    "\n",
    "Relevant patients are those who survived their first admission and/or have been admitted multiple times. The final 'relevant_patients' dataframe consists only of the SUBJECT_ID column for relevant patients, and is created by concatenating 'one_admission_survivors' and 'mult_admissions'; namely, people who survived their only admission and people who had multiple admissions (and therefore survived their first admission)."
   ]
  },
  {
   "cell_type": "code",
   "execution_count": 5,
   "metadata": {
    "ExecuteTime": {
     "end_time": "2019-05-01T17:46:50.877721Z",
     "start_time": "2019-05-01T17:46:50.678143Z"
    }
   },
   "outputs": [
    {
     "name": "stdout",
     "output_type": "stream",
     "text": [
      "Number of people admitted once: 38983\n",
      "People who died on their first admission:\n",
      "4351\n",
      "    SUBJECT_ID\n",
      "7            9\n",
      "10          12\n",
      "23          31\n",
      "43          56\n",
      "71          91\n",
      "People who only had one admission but survived it: 34632\n",
      "    SUBJECT_ID\n",
      "0            2\n",
      "1            3\n",
      "2            4\n",
      "3            5\n",
      "4            6\n",
      "5            7\n",
      "6            8\n",
      "8           10\n",
      "9           11\n",
      "11          13\n",
      "12          16\n",
      "13          18\n",
      "14          19\n",
      "15          20\n",
      "16          22\n",
      "People who had multiple admissions: 7537\n",
      "   SUBJECT_ID\n",
      "0          17\n",
      "1          21\n",
      "2          23\n",
      "3          34\n",
      "4          36\n",
      "Patients who survived their first visit: 42169\n"
     ]
    },
    {
     "data": {
      "text/html": [
       "<div>\n",
       "<style scoped>\n",
       "    .dataframe tbody tr th:only-of-type {\n",
       "        vertical-align: middle;\n",
       "    }\n",
       "\n",
       "    .dataframe tbody tr th {\n",
       "        vertical-align: top;\n",
       "    }\n",
       "\n",
       "    .dataframe thead th {\n",
       "        text-align: right;\n",
       "    }\n",
       "</style>\n",
       "<table border=\"1\" class=\"dataframe\">\n",
       "  <thead>\n",
       "    <tr style=\"text-align: right;\">\n",
       "      <th></th>\n",
       "      <th>SUBJECT_ID</th>\n",
       "    </tr>\n",
       "  </thead>\n",
       "  <tbody>\n",
       "    <tr>\n",
       "      <th>0</th>\n",
       "      <td>2</td>\n",
       "    </tr>\n",
       "    <tr>\n",
       "      <th>1</th>\n",
       "      <td>3</td>\n",
       "    </tr>\n",
       "    <tr>\n",
       "      <th>2</th>\n",
       "      <td>4</td>\n",
       "    </tr>\n",
       "    <tr>\n",
       "      <th>3</th>\n",
       "      <td>5</td>\n",
       "    </tr>\n",
       "  </tbody>\n",
       "</table>\n",
       "</div>"
      ],
      "text/plain": [
       "   SUBJECT_ID\n",
       "0           2\n",
       "1           3\n",
       "2           4\n",
       "3           5"
      ]
     },
     "execution_count": 5,
     "metadata": {},
     "output_type": "execute_result"
    }
   ],
   "source": [
    "# 'First' admission if it is a patient's first ever admission\n",
    "# Exclude patients who die during their 'first' visit\n",
    "\n",
    "one_admission = pd.read_sql(\"\"\"SELECT SUBJECT_ID, HOSPITAL_EXPIRE_FLAG FROM admissions\n",
    "GROUP BY SUBJECT_ID\n",
    "HAVING COUNT(SUBJECT_ID) = 1\n",
    "\"\"\", conn)\n",
    "print(\"Number of people admitted once: \" + str(one_admission.shape[0]))\n",
    "one_admission_deaths = one_admission.iloc[one_admission['HOSPITAL_EXPIRE_FLAG'].values == 1]\n",
    "one_admission_deaths = one_admission_deaths[['SUBJECT_ID']]\n",
    "print(\"People who died on their first admission:\")\n",
    "print(one_admission_deaths.shape[0])\n",
    "print(one_admission_deaths.head())\n",
    "\n",
    "one_admission_survivors = one_admission[one_admission['HOSPITAL_EXPIRE_FLAG'] == 0]\n",
    "one_admission_survivors = one_admission_survivors[['SUBJECT_ID']]\n",
    "print(\"People who only had one admission but survived it: \" + str(one_admission_survivors.shape[0]))\n",
    "print(one_admission_survivors[0:15])\n",
    "\n",
    "mult_admissions = pd.read_sql(\"\"\"SELECT SUBJECT_ID FROM admissions\n",
    "GROUP BY SUBJECT_ID\n",
    "HAVING COUNT(SUBJECT_ID) > 1\n",
    "ORDER BY CAST(SUBJECT_ID AS UNSIGNED) ASC\n",
    "\"\"\", conn)\n",
    "print(\"People who had multiple admissions: \" + str(mult_admissions.shape[0]))\n",
    "print(mult_admissions.head())\n",
    "\n",
    "# Concatenate all subject IDs from patients who survived their first visit\n",
    "relevant_patients = pd.concat([one_admission_survivors, mult_admissions], axis = 0)\n",
    "relevant_patients.columns = relevant_patients.columns.str.strip()\n",
    "relevant_patients = relevant_patients.sort_values('SUBJECT_ID')\n",
    "print(\"Patients who survived their first visit: \" + str(relevant_patients.shape[0]))\n",
    "relevant_patients[0:4]"
   ]
  },
  {
   "cell_type": "markdown",
   "metadata": {},
   "source": [
    "A dataframe containing all HADM_ID values and attached HOSPITAL_EXPIRE_FLAG values for relevant patients was also generated. This will be used later when generating truth labels."
   ]
  },
  {
   "cell_type": "code",
   "execution_count": 6,
   "metadata": {
    "ExecuteTime": {
     "end_time": "2019-05-01T17:46:50.914378Z",
     "start_time": "2019-05-01T17:46:50.882180Z"
    }
   },
   "outputs": [
    {
     "name": "stdout",
     "output_type": "stream",
     "text": [
      "54625\n"
     ]
    },
    {
     "data": {
      "text/html": [
       "<div>\n",
       "<style scoped>\n",
       "    .dataframe tbody tr th:only-of-type {\n",
       "        vertical-align: middle;\n",
       "    }\n",
       "\n",
       "    .dataframe tbody tr th {\n",
       "        vertical-align: top;\n",
       "    }\n",
       "\n",
       "    .dataframe thead th {\n",
       "        text-align: right;\n",
       "    }\n",
       "</style>\n",
       "<table border=\"1\" class=\"dataframe\">\n",
       "  <thead>\n",
       "    <tr style=\"text-align: right;\">\n",
       "      <th></th>\n",
       "      <th>SUBJECT_ID</th>\n",
       "      <th>HADM_ID</th>\n",
       "      <th>HOSPITAL_EXPIRE_FLAG</th>\n",
       "    </tr>\n",
       "  </thead>\n",
       "  <tbody>\n",
       "    <tr>\n",
       "      <th>4</th>\n",
       "      <td>6</td>\n",
       "      <td>107064</td>\n",
       "      <td>0</td>\n",
       "    </tr>\n",
       "    <tr>\n",
       "      <th>5</th>\n",
       "      <td>7</td>\n",
       "      <td>118037</td>\n",
       "      <td>0</td>\n",
       "    </tr>\n",
       "    <tr>\n",
       "      <th>6</th>\n",
       "      <td>8</td>\n",
       "      <td>159514</td>\n",
       "      <td>0</td>\n",
       "    </tr>\n",
       "    <tr>\n",
       "      <th>7</th>\n",
       "      <td>10</td>\n",
       "      <td>184167</td>\n",
       "      <td>0</td>\n",
       "    </tr>\n",
       "    <tr>\n",
       "      <th>8</th>\n",
       "      <td>11</td>\n",
       "      <td>194540</td>\n",
       "      <td>0</td>\n",
       "    </tr>\n",
       "  </tbody>\n",
       "</table>\n",
       "</div>"
      ],
      "text/plain": [
       "   SUBJECT_ID  HADM_ID  HOSPITAL_EXPIRE_FLAG\n",
       "4           6   107064                     0\n",
       "5           7   118037                     0\n",
       "6           8   159514                     0\n",
       "7          10   184167                     0\n",
       "8          11   194540                     0"
      ]
     },
     "execution_count": 6,
     "metadata": {},
     "output_type": "execute_result"
    }
   ],
   "source": [
    "# All admissions information for relevant patients\n",
    "all_admissions_for_relevant_patients = pd.merge(relevant_patients, all_admissions_info, how='inner', on='SUBJECT_ID')\n",
    "print(all_admissions_for_relevant_patients.shape[0])\n",
    "all_admissions_for_relevant_patients[4:9]"
   ]
  },
  {
   "cell_type": "markdown",
   "metadata": {},
   "source": [
    "#### c. Features"
   ]
  },
  {
   "cell_type": "markdown",
   "metadata": {},
   "source": [
    "##### i. Hospital Length of Stay"
   ]
  },
  {
   "cell_type": "code",
   "execution_count": 7,
   "metadata": {
    "ExecuteTime": {
     "end_time": "2019-05-01T17:46:53.630989Z",
     "start_time": "2019-05-01T17:46:50.916547Z"
    }
   },
   "outputs": [],
   "source": [
    "# Features for all patients\n",
    "# Only take table info for subjects that are included in our design matrix\n",
    "# Filter via inner join\n",
    "admissions_info = pd.read_sql(\"\"\"SELECT adm.SUBJECT_ID, HADM_ID, ADMITTIME, DISCHTIME\n",
    "                                 FROM admissions adm\n",
    "                                 INNER JOIN patients pat\n",
    "                                 ON adm.SUBJECT_ID = pat.SUBJECT_ID\n",
    "                                 ORDER BY pat.SUBJECT_ID ASC\n",
    "                                 \"\"\", conn)\n",
    "admissions_info['DISCHTIME'] = pd.to_datetime(admissions_info['DISCHTIME'])\n",
    "admissions_info['ADMITTIME'] = pd.to_datetime(admissions_info['ADMITTIME'])"
   ]
  },
  {
   "cell_type": "code",
   "execution_count": 8,
   "metadata": {
    "ExecuteTime": {
     "end_time": "2019-05-01T17:46:54.133499Z",
     "start_time": "2019-05-01T17:46:53.633427Z"
    }
   },
   "outputs": [],
   "source": [
    "# Further process information for admissions and ICU stays\n",
    "# Calculate length of stay for each admission\n",
    "admissions_feats= pd.read_sql(\"\"\"SELECT adm.SUBJECT_ID, HADM_ID, ADMITTIME, DISCHTIME\n",
    "                                 FROM admissions adm\n",
    "                                 INNER JOIN patients pat\n",
    "                                 ON adm.SUBJECT_ID = pat.SUBJECT_ID\n",
    "                                 ORDER BY pat.SUBJECT_ID ASC\n",
    "                                 \"\"\", conn)\n",
    "\n",
    "# 'HOS_LOS' is length of stay in HOSPITAL, in seconds ('TimedeltaProperties' object only\n",
    "# has days, seconds, microseconds as attributes)\n",
    "admissions_feats['HOS_LOS'] = (admissions_info['DISCHTIME'] - admissions_info['ADMITTIME']).dt.days\n",
    "admissions_feats['HOS_LOS'] = (admissions_feats['HOS_LOS'] - admissions_feats['HOS_LOS'].mean())/admissions_feats['HOS_LOS'].std()\n",
    "\n",
    "# Only get information from FIRST admission\n",
    "admissions_feats.sort_values('DISCHTIME')\n",
    "admissions_feats = admissions_feats.drop_duplicates(subset='SUBJECT_ID', keep='first')\n",
    "admissions_feats = admissions_feats[['SUBJECT_ID', 'HADM_ID', 'ADMITTIME', 'HOS_LOS']]"
   ]
  },
  {
   "cell_type": "markdown",
   "metadata": {},
   "source": [
    "##### ii. Age"
   ]
  },
  {
   "cell_type": "markdown",
   "metadata": {},
   "source": [
    "Another potentially useful feature is age because older patients may be more likely to require readmission. We determined the age of each patient by subtracting the the date of birth from the time of the first hospital admission. Note that the creators of the MIMIC database set the age of all patients older than 89 years to 300 years to comply with HIPAA requirements. For this project, we reset the age of the 300 year old patients to 89 years old. Here, we calculate the age of each patient in days. We normalize the age by subtracting the mean and dividing by the standard deviation."
   ]
  },
  {
   "cell_type": "code",
   "execution_count": 9,
   "metadata": {},
   "outputs": [
    {
     "name": "stderr",
     "output_type": "stream",
     "text": [
      "/Users/kevinmchu/anaconda3/lib/python3.7/site-packages/pandas/core/indexing.py:189: SettingWithCopyWarning: \n",
      "A value is trying to be set on a copy of a slice from a DataFrame\n",
      "\n",
      "See the caveats in the documentation: http://pandas.pydata.org/pandas-docs/stable/indexing.html#indexing-view-versus-copy\n",
      "  self._setitem_with_indexer(indexer, value)\n"
     ]
    }
   ],
   "source": [
    "# Join the patients table with the admissions table\n",
    "pat_adm_df = pd.read_sql(\"\"\"SELECT pat.SUBJECT_ID, pat.DOB, adm.ADMITTIME\n",
    "                            FROM patients pat\n",
    "                            INNER JOIN admissions adm\n",
    "                            ON pat.SUBJECT_ID = adm.SUBJECT_ID\n",
    "                            ORDER BY pat.SUBJECT_ID ASC\"\"\", conn)\n",
    "\n",
    "# Patient's age at first admission time\n",
    "admissions_feats['age'] = (pd.to_datetime(pat_adm_df['ADMITTIME']) - pd.to_datetime(pat_adm_df['DOB'])).dt.days\n",
    "\n",
    "# Fix overflow issues with 300 year old patients, change age to 89 years\n",
    "admissions_feats[\"age\"].loc[admissions_feats[\"age\"] < 0] = 32485 # age in days\n",
    "\n",
    "# Normalize the age to achieve zero mean and unit variance\n",
    "admissions_feats[\"age\"] = (admissions_feats[\"age\"] - admissions_feats[\"age\"].mean())/admissions_feats[\"age\"].std()"
   ]
  },
  {
   "cell_type": "markdown",
   "metadata": {},
   "source": [
    "#### d. Generate Truth Labels"
   ]
  },
  {
   "cell_type": "markdown",
   "metadata": {},
   "source": [
    "Next, we generate the ground truth labels to indicate whether a patient was readmitted within 30 days. For this project, we were only interested in using information from the patient's first admission to determine whether their second admission would occur within 30 days."
   ]
  },
  {
   "cell_type": "code",
   "execution_count": 10,
   "metadata": {},
   "outputs": [
    {
     "name": "stdout",
     "output_type": "stream",
     "text": [
      "   SUBJECT_ID  READM\n",
      "0           2      0\n",
      "1           3      0\n",
      "2           4      0\n",
      "3           5      0\n",
      "4           6      0\n",
      "(42169, 2)\n"
     ]
    }
   ],
   "source": [
    "# !!! Need to generate truth labels for ONLY:\n",
    "# - patients who survived their first admission\n",
    "# - the last ICU stay, if there were multiple\n",
    "# - the first admission, if there were multiple\n",
    "\n",
    "# Generate additional columns:\n",
    "# Append truth labels column (Was patient readmitted within 30 days?)\n",
    "subj_adm = all_admissions_for_relevant_patients[\"SUBJECT_ID\"].value_counts()\n",
    "subj_adm = subj_adm.sort_index()\n",
    "\n",
    "mult_adm_subj = subj_adm.index[subj_adm > 1]\n",
    "\n",
    "# Instantiate to all zeros\n",
    "truth = np.zeros((len(subj_adm)))\n",
    "\n",
    "subj_adm_idx = list(subj_adm.index)\n",
    "\n",
    "for subject in mult_adm_subj:\n",
    "    temp_df = admissions_info[admissions_info[\"SUBJECT_ID\"] == subject]\n",
    "    \n",
    "    # Get time between first discharge and second admission\n",
    "    first_disc_time = temp_df[\"DISCHTIME\"].iloc[0]\n",
    "    second_adm_time = temp_df[\"ADMITTIME\"].iloc[1]\n",
    "    days_to_readm = (pd.to_datetime(second_adm_time) - pd.to_datetime(first_disc_time)).days\n",
    "    \n",
    "    # If readmitted within 30 days, set truth to 1\n",
    "    if days_to_readm <= 30:\n",
    "        truth[subj_adm_idx.index(subject)] = 1\n",
    "        \n",
    "truth_df = pd.DataFrame({'SUBJECT_ID': subj_adm_idx, 'READM': np.array(truth, dtype='int')})\n",
    "print(truth_df.head())\n",
    "print(truth_df.shape)"
   ]
  },
  {
   "cell_type": "code",
   "execution_count": 11,
   "metadata": {},
   "outputs": [],
   "source": [
    "subj_hadm_df = pd.merge(relevant_patients[\"SUBJECT_ID\"].to_frame(),\n",
    "                        admissions_feats[[\"SUBJECT_ID\", \"HADM_ID\"]],\n",
    "                        how='inner', on='SUBJECT_ID')"
   ]
  },
  {
   "cell_type": "code",
   "execution_count": 12,
   "metadata": {},
   "outputs": [],
   "source": [
    "# Create TRUTH.csv file\n",
    "truth_and_hadm_df = pd.merge(truth_df, subj_hadm_df)\n",
    "truth_and_hadm_array = truth_and_hadm_df.get_values()\n",
    "\n",
    "# Save\n",
    "#np.savetxt(\"TRUTH.csv\", truth_and_hadm_array, fmt='%d', delimiter=',')"
   ]
  },
  {
   "cell_type": "markdown",
   "metadata": {},
   "source": [
    "#### e. Subset the Data"
   ]
  },
  {
   "cell_type": "markdown",
   "metadata": {},
   "source": [
    "The data are highly imbalanced, where only 5 percent of patients are readmitted within 30 days of their first admission. Classifiers trained on highly imbalanced datasets may become biased to the majority class and may not generalize well to examples from the minority class. To mitigate this issue, we randomly downsample the majority class so that both classes have the same number of observations. "
   ]
  },
  {
   "cell_type": "code",
   "execution_count": 13,
   "metadata": {},
   "outputs": [],
   "source": [
    "import random\n",
    "\n",
    "# Extract class 0 and class 1 admissions\n",
    "class0 = truth_and_hadm_df.loc[truth_and_hadm_df[\"READM\"]==0] # not readmitted within 30 days\n",
    "class1 = truth_and_hadm_df.loc[truth_and_hadm_df[\"READM\"]==1] # readmitted within 30 days\n",
    "\n",
    "# Downsample majority class to same # of observations as minority class\n",
    "# Generate random indices for downsampling\n",
    "rand_idx = random.sample(range(0, len(class0)), len(class1))\n",
    "class0_subset = class0.iloc[rand_idx]\n",
    "\n",
    "# Concatenate hadm_ids and save to file\n",
    "balanced_hadm_ids = np.concatenate((class0_subset[\"HADM_ID\"], class1[\"HADM_ID\"]))\n",
    "#np.savetxt('csv/hadm_ids_balanced.csv', balanced_hadm_ids, fmt='%d', delimiter=',')"
   ]
  },
  {
   "cell_type": "markdown",
   "metadata": {},
   "source": [
    "### 2. Lab Events"
   ]
  },
  {
   "cell_type": "markdown",
   "metadata": {},
   "source": [
    "In this section, we look at information in the lab events table. This table contains information about various laboratory measurements done on a patient. "
   ]
  },
  {
   "cell_type": "markdown",
   "metadata": {},
   "source": [
    "#### a. Import Data"
   ]
  },
  {
   "cell_type": "code",
   "execution_count": 14,
   "metadata": {},
   "outputs": [],
   "source": [
    "# Import libraries\n",
    "import pandas as pd\n",
    "import numpy as np\n",
    "from datetime import datetime as dt\n",
    "import sqlite3"
   ]
  },
  {
   "cell_type": "code",
   "execution_count": 15,
   "metadata": {},
   "outputs": [],
   "source": [
    "# Database connection\n",
    "\n",
    "# This database contains a table with a subset of patients.\n",
    "# The majority class is downsampled so that the classes are balanced.\n",
    "conn2 = sqlite3.connect(\"./data/labevents_balanced.db\") \n",
    "\n",
    "# This database contains a table that links ITEMID to LABEL\n",
    "conn3 = sqlite3.connect(\"./data/lab_events.db\")"
   ]
  },
  {
   "cell_type": "code",
   "execution_count": 16,
   "metadata": {},
   "outputs": [
    {
     "data": {
      "text/html": [
       "<div>\n",
       "<style scoped>\n",
       "    .dataframe tbody tr th:only-of-type {\n",
       "        vertical-align: middle;\n",
       "    }\n",
       "\n",
       "    .dataframe tbody tr th {\n",
       "        vertical-align: top;\n",
       "    }\n",
       "\n",
       "    .dataframe thead th {\n",
       "        text-align: right;\n",
       "    }\n",
       "</style>\n",
       "<table border=\"1\" class=\"dataframe\">\n",
       "  <thead>\n",
       "    <tr style=\"text-align: right;\">\n",
       "      <th></th>\n",
       "      <th>ROW_ID</th>\n",
       "      <th>SUBJECT_ID</th>\n",
       "      <th>HADM_ID</th>\n",
       "      <th>ITEMID</th>\n",
       "      <th>CHARTTIME</th>\n",
       "      <th>VALUE</th>\n",
       "      <th>VALUENUM</th>\n",
       "      <th>VALUEUOM</th>\n",
       "      <th>FLAG</th>\n",
       "      <th>LABEL</th>\n",
       "    </tr>\n",
       "  </thead>\n",
       "  <tbody>\n",
       "    <tr>\n",
       "      <th>0</th>\n",
       "      <td>12019</td>\n",
       "      <td>30</td>\n",
       "      <td>104557</td>\n",
       "      <td>50800</td>\n",
       "      <td>2172-10-14 16:06:00</td>\n",
       "      <td>ART</td>\n",
       "      <td>NaN</td>\n",
       "      <td></td>\n",
       "      <td></td>\n",
       "      <td>SPECIMEN TYPE</td>\n",
       "    </tr>\n",
       "    <tr>\n",
       "      <th>1</th>\n",
       "      <td>34727</td>\n",
       "      <td>71</td>\n",
       "      <td>111944</td>\n",
       "      <td>50800</td>\n",
       "      <td>2164-02-03 21:07:00</td>\n",
       "      <td>ART</td>\n",
       "      <td>NaN</td>\n",
       "      <td></td>\n",
       "      <td></td>\n",
       "      <td>SPECIMEN TYPE</td>\n",
       "    </tr>\n",
       "    <tr>\n",
       "      <th>2</th>\n",
       "      <td>34766</td>\n",
       "      <td>71</td>\n",
       "      <td>111944</td>\n",
       "      <td>50800</td>\n",
       "      <td>2164-02-03 23:14:00</td>\n",
       "      <td>ART</td>\n",
       "      <td>NaN</td>\n",
       "      <td></td>\n",
       "      <td></td>\n",
       "      <td>SPECIMEN TYPE</td>\n",
       "    </tr>\n",
       "    <tr>\n",
       "      <th>3</th>\n",
       "      <td>34772</td>\n",
       "      <td>71</td>\n",
       "      <td>111944</td>\n",
       "      <td>50800</td>\n",
       "      <td>2164-02-04 02:30:00</td>\n",
       "      <td>ART</td>\n",
       "      <td>NaN</td>\n",
       "      <td></td>\n",
       "      <td></td>\n",
       "      <td>SPECIMEN TYPE</td>\n",
       "    </tr>\n",
       "    <tr>\n",
       "      <th>4</th>\n",
       "      <td>32967</td>\n",
       "      <td>68</td>\n",
       "      <td>170467</td>\n",
       "      <td>50800</td>\n",
       "      <td>2173-12-15 12:39:00</td>\n",
       "      <td>ART</td>\n",
       "      <td>NaN</td>\n",
       "      <td></td>\n",
       "      <td></td>\n",
       "      <td>SPECIMEN TYPE</td>\n",
       "    </tr>\n",
       "  </tbody>\n",
       "</table>\n",
       "</div>"
      ],
      "text/plain": [
       "  ROW_ID  SUBJECT_ID  HADM_ID ITEMID            CHARTTIME VALUE  VALUENUM  \\\n",
       "0  12019          30   104557  50800  2172-10-14 16:06:00   ART       NaN   \n",
       "1  34727          71   111944  50800  2164-02-03 21:07:00   ART       NaN   \n",
       "2  34766          71   111944  50800  2164-02-03 23:14:00   ART       NaN   \n",
       "3  34772          71   111944  50800  2164-02-04 02:30:00   ART       NaN   \n",
       "4  32967          68   170467  50800  2173-12-15 12:39:00   ART       NaN   \n",
       "\n",
       "  VALUEUOM FLAG          LABEL  \n",
       "0                SPECIMEN TYPE  \n",
       "1                SPECIMEN TYPE  \n",
       "2                SPECIMEN TYPE  \n",
       "3                SPECIMEN TYPE  \n",
       "4                SPECIMEN TYPE  "
      ]
     },
     "execution_count": 16,
     "metadata": {},
     "output_type": "execute_result"
    }
   ],
   "source": [
    "# Dataframe creation\n",
    "\n",
    "# Contains lab measurements for patient subset\n",
    "lab_events_df = pd.read_sql(\"\"\"SELECT * FROM labevents\"\"\", conn2)\n",
    "\n",
    "# Links ITEMID to LABEL\n",
    "lab_items_df = pd.read_sql(\"\"\"SELECT * FROM lab_items\"\"\", conn3)\n",
    "\n",
    "# Convert to numeric data types\n",
    "lab_events_df[\"SUBJECT_ID\"] = pd.to_numeric(lab_events_df[\"SUBJECT_ID\"])\n",
    "lab_events_df[\"HADM_ID\"] = pd.to_numeric(lab_events_df[\"HADM_ID\"]).astype(int)\n",
    "lab_events_df[\"VALUENUM\"] = pd.to_numeric(lab_events_df[\"VALUENUM\"])\n",
    "\n",
    "# Merge with labels for laboratory measurements\n",
    "lab_events_df = lab_events_df.merge(lab_items_df[['ITEMID','LABEL']], left_on='ITEMID', right_on='ITEMID')\n",
    "\n",
    "lab_events_df.head()"
   ]
  },
  {
   "cell_type": "markdown",
   "metadata": {},
   "source": [
    "#### b. Truth Labels"
   ]
  },
  {
   "cell_type": "code",
   "execution_count": 17,
   "metadata": {},
   "outputs": [],
   "source": [
    "# Here, we extract the truth labels. A label of 1 indicates that a patient was\n",
    "# readmitted within 30 days, and a label of 0 indicates otherwise.\n",
    "\n",
    "# Load in information about truth labels and corresponding admissions\n",
    "# Column 1: SUBJECT_ID\n",
    "# Column 2: TRUTH\n",
    "# Column 3: HADM_ID\n",
    "truth_array = np.loadtxt(\"csv/TRUTH.csv\", delimiter=',', skiprows=1)\n",
    "\n",
    "# Create a dataframe with truth labels\n",
    "truth_df = pd.DataFrame(truth_array, columns=['SUBJECT_ID', 'TRUTH', 'HADM_ID'])\n",
    "\n",
    "# Convert to ints\n",
    "truth_df[\"SUBJECT_ID\"] = truth_df[\"SUBJECT_ID\"].astype(int)\n",
    "truth_df[\"TRUTH\"] = truth_df[\"TRUTH\"].astype(int)\n",
    "truth_df[\"HADM_ID\"] = truth_df[\"HADM_ID\"].astype(int)"
   ]
  },
  {
   "cell_type": "markdown",
   "metadata": {},
   "source": [
    "#### c. Relevant Admissions"
   ]
  },
  {
   "cell_type": "code",
   "execution_count": 18,
   "metadata": {},
   "outputs": [],
   "source": [
    "# Only interested in lab events corresponding to the relevant admissions, i.e. those where\n",
    "# patient did not die during the first visit\n",
    "relevant_lab_events_df = lab_events_df.merge(truth_df, on='HADM_ID')\n",
    "\n",
    "# Get relevant truth labels\n",
    "hadm_df = pd.DataFrame(lab_events_df[\"HADM_ID\"].unique(), columns={'HADM_ID'})\n",
    "\n",
    "# Get updated truth_df\n",
    "relevant_truth_df = hadm_df.merge(truth_df, how='inner', on='HADM_ID')"
   ]
  },
  {
   "cell_type": "markdown",
   "metadata": {},
   "source": [
    "#### d. Lab Features"
   ]
  },
  {
   "cell_type": "markdown",
   "metadata": {},
   "source": [
    "Here, we extract features from the laboratory measurements. Lab measurements were made in different fluids including blood, cerebrospinal fluid, and urine. Some of the tests include red blood cell count, white blood cell count, and the glucose concentration. For all lab tests, we calculate the proportion of measurements that were flagged as abnormal. The rationale behind this approach is that a higher proportion of abnormal measurements may indicate that the patient is sicker, making it more likely that they will be readmitted within 30 days."
   ]
  },
  {
   "cell_type": "code",
   "execution_count": 19,
   "metadata": {},
   "outputs": [],
   "source": [
    "# Create binary variable to represent whether measurement is abnormal\n",
    "relevant_lab_events_df['ABNORMAL'] = 0\n",
    "relevant_lab_events_df.loc[relevant_lab_events_df['FLAG']=='abnormal', 'ABNORMAL'] = 1\n",
    "\n",
    "# Get proportion of measurements that are abnormal\n",
    "abnormal_df = relevant_lab_events_df.groupby(['HADM_ID', 'ITEMID'], as_index = False)['ABNORMAL'].mean()\n",
    "\n",
    "# Get list of measurement names\n",
    "meas_type = np.unique(lab_events_df[\"ITEMID\"].get_values())\n",
    "\n",
    "# Initially set design matrix equal to truth dataframe\n",
    "design_mat_df = relevant_truth_df\n",
    "\n",
    "# For all measurement types, get the proportion of abnormal values\n",
    "for meas in meas_type:\n",
    "    # Get proportion of abnormal values\n",
    "    curr_df = abnormal_df.loc[abnormal_df[\"ITEMID\"] == meas, [\"HADM_ID\", \"ABNORMAL\"]]\n",
    "    \n",
    "    # Rename\n",
    "    rename_as = meas + \"_ABNORMAL\"\n",
    "    curr_df = curr_df.rename(index=str, columns={\"ABNORMAL\": rename_as})\n",
    "    \n",
    "    # Merge\n",
    "    design_mat_df = design_mat_df.merge(curr_df, how='left', on='HADM_ID')"
   ]
  },
  {
   "cell_type": "markdown",
   "metadata": {},
   "source": [
    "#### e. Add Admissions Features"
   ]
  },
  {
   "cell_type": "code",
   "execution_count": 20,
   "metadata": {},
   "outputs": [],
   "source": [
    "# Merge hospital length of stay and age onto existing design matrix\n",
    "design_mat_df = design_mat_df.merge(admissions_feats[[\"HADM_ID\", \"HOS_LOS\", \"age\"]], how='left', on='HADM_ID')\n",
    "\n",
    "# Create dataframe with feature names\n",
    "adm_feat_names_df = pd.DataFrame([\"1st Admission Length of Stay\", \"Age\"], columns={\"Feature\"})\n",
    "\n",
    "# Remove hospital admission and subject ID columns\n",
    "design_mat_df = design_mat_df.drop(columns=[\"HADM_ID\", \"SUBJECT_ID\"])"
   ]
  },
  {
   "cell_type": "markdown",
   "metadata": {},
   "source": [
    "### 3. Feature Selection"
   ]
  },
  {
   "cell_type": "markdown",
   "metadata": {},
   "source": [
    "In this section, we describe a technique to reduce the number of features in the data. The reason for selecting only a subset of features is to avoid the curse of dimensionality, which asserts that the hypervolume increases much faster than observations can fill the space. If the number of features is large compared to the number of observations, a classifier trained on the data will tend to overfit the training set. An additional challenge associated with this dataset is that different types of lab tests are performed on different patients, resulting in a substantial number of missing values. This exacerbates the data sparsity problem associated with high dimensional data. To mitigate this concern, we select features that have at least 50 percent non-missing values in the training set because features with many missing values are not informative for classification. "
   ]
  },
  {
   "cell_type": "code",
   "execution_count": 21,
   "metadata": {
    "ExecuteTime": {
     "end_time": "2019-05-01T17:48:24.909879Z",
     "start_time": "2019-05-01T17:48:24.784727Z"
    }
   },
   "outputs": [],
   "source": [
    "from sklearn.model_selection import train_test_split\n",
    "\n",
    "# Make train and test splits\n",
    "train_df, test_df = train_test_split(design_mat_df, test_size = 0.33, random_state = 0)\n",
    "\n",
    "# Select features that have at least 50% non-missing values in the training set\n",
    "prop_non_missing = (~train_df.isna()).sum()/len(train_df)\n",
    "threshold = 0.5\n",
    "\n",
    "# Select same features in training and testing set\n",
    "train_df = train_df.loc[:, prop_non_missing > threshold]\n",
    "test_df = test_df.loc[:, prop_non_missing > threshold]"
   ]
  },
  {
   "cell_type": "markdown",
   "metadata": {},
   "source": [
    "After feature selection, we obtained a set of 56 features describing the proportion of abnormal measurements. The table below lists the lab test and the fluid from which samples were obtained."
   ]
  },
  {
   "cell_type": "code",
   "execution_count": 22,
   "metadata": {
    "ExecuteTime": {
     "end_time": "2019-05-01T17:48:24.981089Z",
     "start_time": "2019-05-01T17:48:24.911997Z"
    }
   },
   "outputs": [],
   "source": [
    "# Get names of selected features\n",
    "all_columns = train_df.iloc[:, 1:-2].columns\n",
    "lab_meas_df = pd.DataFrame(all_columns, columns={\"ITEMID\"})\n",
    "\n",
    "# Strip _ABNORMAL from the name\n",
    "lab_meas_df[\"ITEMID\"] = lab_meas_df[\"ITEMID\"].replace(to_replace=\"_ABNORMAL\", value=\"\", regex=True)\n",
    "\n",
    "# Get labels and fluid from lab_items_df\n",
    "lab_meas_df = lab_meas_df.merge(lab_items_df.loc[:,[\"LABEL\", \"FLUID\", \"ITEMID\"]], how='inner', on='ITEMID')\n",
    "lab_feat_names_df = pd.DataFrame(lab_meas_df[\"LABEL\"] + \" \" + lab_meas_df[\"FLUID\"] + '-Abnormal', columns={\"Feature\"})"
   ]
  },
  {
   "cell_type": "markdown",
   "metadata": {},
   "source": [
    "### 4. Missing Values"
   ]
  },
  {
   "cell_type": "markdown",
   "metadata": {},
   "source": [
    "After performing feature selection, many of the proportions are missing values because not all lab tests are performed on a patient. Classifiers often cannot handle missing values, so a technique must be used to address the missing values. We address the problem by adding a set of indicator variables to denote missing values and by imputing the data."
   ]
  },
  {
   "cell_type": "markdown",
   "metadata": {},
   "source": [
    "#### a. Indicator Variables\n",
    "For the lab measurements, we add indicator variables because whether a patient has a certain lab measurement done may give clues about their health. The indicator variable is set to 0 if the corresponding feature is non-missing and 1 if the feature is missing. This results in an additional set of 56 features."
   ]
  },
  {
   "cell_type": "code",
   "execution_count": 23,
   "metadata": {
    "ExecuteTime": {
     "end_time": "2019-05-01T17:48:26.388209Z",
     "start_time": "2019-05-01T17:48:24.983109Z"
    }
   },
   "outputs": [],
   "source": [
    "# Here, we include additional features to indicate the presence of any remaining missing values\n",
    "missing_train_df = train_df.isna().astype(int)\n",
    "missing_test_df = test_df.isna().astype(int)\n",
    "\n",
    "# Only need indicator variables if there are missing values in a column\n",
    "missing_train_df = missing_train_df.loc[:, missing_train_df.sum() != 0]\n",
    "missing_test_df = missing_test_df.loc[:, missing_test_df.sum() != 0]\n",
    "\n",
    "# Merge\n",
    "train_df = pd.merge(train_df, missing_train_df, left_index=True, right_index=True)\n",
    "test_df = pd.merge(test_df, missing_test_df, left_index=True, right_index=True)\n",
    "\n",
    "# Get feature names\n",
    "missing_feat_names_df = lab_feat_names_df + \"-Missing?\""
   ]
  },
  {
   "cell_type": "markdown",
   "metadata": {},
   "source": [
    "#### b. Imputation"
   ]
  },
  {
   "cell_type": "markdown",
   "metadata": {},
   "source": [
    "Here, we impute the missing values by replacing them with zeros."
   ]
  },
  {
   "cell_type": "code",
   "execution_count": 24,
   "metadata": {},
   "outputs": [],
   "source": [
    "# Replace NaN values\n",
    "train_df = train_df.fillna(0)\n",
    "test_df = test_df.fillna(0)"
   ]
  },
  {
   "cell_type": "code",
   "execution_count": 25,
   "metadata": {},
   "outputs": [],
   "source": [
    "# Extract X and y values from training and testing dataframes\n",
    "X_train = train_df.iloc[:, 1:len(train_df.columns)].get_values()\n",
    "y_train = train_df.iloc[:, 0]\n",
    "X_test = test_df.iloc[:, 1:len(test_df.columns)].get_values()\n",
    "y_test = test_df.iloc[:, 0]"
   ]
  },
  {
   "cell_type": "markdown",
   "metadata": {},
   "source": [
    "### 5. Final Features"
   ]
  },
  {
   "cell_type": "markdown",
   "metadata": {},
   "source": [
    "The final features used to train the model are the patient age, length of stay for the first admission, proportion of abnormal lab measurements, and presence of missing measurements. The table below shows a full list of the final features used to train and test the classification models."
   ]
  },
  {
   "cell_type": "code",
   "execution_count": 26,
   "metadata": {},
   "outputs": [
    {
     "data": {
      "text/html": [
       "<div>\n",
       "<style scoped>\n",
       "    .dataframe tbody tr th:only-of-type {\n",
       "        vertical-align: middle;\n",
       "    }\n",
       "\n",
       "    .dataframe tbody tr th {\n",
       "        vertical-align: top;\n",
       "    }\n",
       "\n",
       "    .dataframe thead th {\n",
       "        text-align: right;\n",
       "    }\n",
       "</style>\n",
       "<table border=\"1\" class=\"dataframe\">\n",
       "  <thead>\n",
       "    <tr style=\"text-align: right;\">\n",
       "      <th></th>\n",
       "      <th>Feature</th>\n",
       "    </tr>\n",
       "  </thead>\n",
       "  <tbody>\n",
       "    <tr>\n",
       "      <th>0</th>\n",
       "      <td>1st Admission Length of Stay</td>\n",
       "    </tr>\n",
       "    <tr>\n",
       "      <th>1</th>\n",
       "      <td>Age</td>\n",
       "    </tr>\n",
       "    <tr>\n",
       "      <th>2</th>\n",
       "      <td>Base Excess Blood-Abnormal</td>\n",
       "    </tr>\n",
       "    <tr>\n",
       "      <th>3</th>\n",
       "      <td>Calculated Total CO2 Blood-Abnormal</td>\n",
       "    </tr>\n",
       "    <tr>\n",
       "      <th>4</th>\n",
       "      <td>Lactate Blood-Abnormal</td>\n",
       "    </tr>\n",
       "    <tr>\n",
       "      <th>5</th>\n",
       "      <td>pCO2 Blood-Abnormal</td>\n",
       "    </tr>\n",
       "    <tr>\n",
       "      <th>6</th>\n",
       "      <td>pH Blood-Abnormal</td>\n",
       "    </tr>\n",
       "    <tr>\n",
       "      <th>7</th>\n",
       "      <td>pO2 Blood-Abnormal</td>\n",
       "    </tr>\n",
       "    <tr>\n",
       "      <th>8</th>\n",
       "      <td>Potassium, Whole Blood Blood-Abnormal</td>\n",
       "    </tr>\n",
       "    <tr>\n",
       "      <th>9</th>\n",
       "      <td>Alanine Aminotransferase (ALT) Blood-Abnormal</td>\n",
       "    </tr>\n",
       "    <tr>\n",
       "      <th>10</th>\n",
       "      <td>Albumin Blood-Abnormal</td>\n",
       "    </tr>\n",
       "    <tr>\n",
       "      <th>11</th>\n",
       "      <td>Alkaline Phosphatase Blood-Abnormal</td>\n",
       "    </tr>\n",
       "    <tr>\n",
       "      <th>12</th>\n",
       "      <td>Anion Gap Blood-Abnormal</td>\n",
       "    </tr>\n",
       "    <tr>\n",
       "      <th>13</th>\n",
       "      <td>Asparate Aminotransferase (AST) Blood-Abnormal</td>\n",
       "    </tr>\n",
       "    <tr>\n",
       "      <th>14</th>\n",
       "      <td>Bicarbonate Blood-Abnormal</td>\n",
       "    </tr>\n",
       "    <tr>\n",
       "      <th>15</th>\n",
       "      <td>Bilirubin, Total Blood-Abnormal</td>\n",
       "    </tr>\n",
       "    <tr>\n",
       "      <th>16</th>\n",
       "      <td>Calcium, Total Blood-Abnormal</td>\n",
       "    </tr>\n",
       "    <tr>\n",
       "      <th>17</th>\n",
       "      <td>Chloride Blood-Abnormal</td>\n",
       "    </tr>\n",
       "    <tr>\n",
       "      <th>18</th>\n",
       "      <td>Creatinine Blood-Abnormal</td>\n",
       "    </tr>\n",
       "    <tr>\n",
       "      <th>19</th>\n",
       "      <td>Glucose Blood-Abnormal</td>\n",
       "    </tr>\n",
       "    <tr>\n",
       "      <th>20</th>\n",
       "      <td>Magnesium Blood-Abnormal</td>\n",
       "    </tr>\n",
       "    <tr>\n",
       "      <th>21</th>\n",
       "      <td>Phosphate Blood-Abnormal</td>\n",
       "    </tr>\n",
       "    <tr>\n",
       "      <th>22</th>\n",
       "      <td>Potassium Blood-Abnormal</td>\n",
       "    </tr>\n",
       "    <tr>\n",
       "      <th>23</th>\n",
       "      <td>Sodium Blood-Abnormal</td>\n",
       "    </tr>\n",
       "    <tr>\n",
       "      <th>24</th>\n",
       "      <td>Urea Nitrogen Blood-Abnormal</td>\n",
       "    </tr>\n",
       "    <tr>\n",
       "      <th>25</th>\n",
       "      <td>Basophils Blood-Abnormal</td>\n",
       "    </tr>\n",
       "    <tr>\n",
       "      <th>26</th>\n",
       "      <td>Eosinophils Blood-Abnormal</td>\n",
       "    </tr>\n",
       "    <tr>\n",
       "      <th>27</th>\n",
       "      <td>Hematocrit Blood-Abnormal</td>\n",
       "    </tr>\n",
       "    <tr>\n",
       "      <th>28</th>\n",
       "      <td>Hemoglobin Blood-Abnormal</td>\n",
       "    </tr>\n",
       "    <tr>\n",
       "      <th>29</th>\n",
       "      <td>INR(PT) Blood-Abnormal</td>\n",
       "    </tr>\n",
       "    <tr>\n",
       "      <th>30</th>\n",
       "      <td>Lymphocytes Blood-Abnormal</td>\n",
       "    </tr>\n",
       "    <tr>\n",
       "      <th>31</th>\n",
       "      <td>MCH Blood-Abnormal</td>\n",
       "    </tr>\n",
       "    <tr>\n",
       "      <th>32</th>\n",
       "      <td>MCHC Blood-Abnormal</td>\n",
       "    </tr>\n",
       "    <tr>\n",
       "      <th>33</th>\n",
       "      <td>MCV Blood-Abnormal</td>\n",
       "    </tr>\n",
       "    <tr>\n",
       "      <th>34</th>\n",
       "      <td>Monocytes Blood-Abnormal</td>\n",
       "    </tr>\n",
       "    <tr>\n",
       "      <th>35</th>\n",
       "      <td>Neutrophils Blood-Abnormal</td>\n",
       "    </tr>\n",
       "    <tr>\n",
       "      <th>36</th>\n",
       "      <td>Platelet Count Blood-Abnormal</td>\n",
       "    </tr>\n",
       "    <tr>\n",
       "      <th>37</th>\n",
       "      <td>PT Blood-Abnormal</td>\n",
       "    </tr>\n",
       "    <tr>\n",
       "      <th>38</th>\n",
       "      <td>PTT Blood-Abnormal</td>\n",
       "    </tr>\n",
       "    <tr>\n",
       "      <th>39</th>\n",
       "      <td>RDW Blood-Abnormal</td>\n",
       "    </tr>\n",
       "    <tr>\n",
       "      <th>40</th>\n",
       "      <td>Red Blood Cells Blood-Abnormal</td>\n",
       "    </tr>\n",
       "    <tr>\n",
       "      <th>41</th>\n",
       "      <td>White Blood Cells Blood-Abnormal</td>\n",
       "    </tr>\n",
       "    <tr>\n",
       "      <th>42</th>\n",
       "      <td>Bilirubin Urine-Abnormal</td>\n",
       "    </tr>\n",
       "    <tr>\n",
       "      <th>43</th>\n",
       "      <td>Blood Urine-Abnormal</td>\n",
       "    </tr>\n",
       "    <tr>\n",
       "      <th>44</th>\n",
       "      <td>Epithelial Cells Urine-Abnormal</td>\n",
       "    </tr>\n",
       "    <tr>\n",
       "      <th>45</th>\n",
       "      <td>Glucose Urine-Abnormal</td>\n",
       "    </tr>\n",
       "    <tr>\n",
       "      <th>46</th>\n",
       "      <td>Ketone Urine-Abnormal</td>\n",
       "    </tr>\n",
       "    <tr>\n",
       "      <th>47</th>\n",
       "      <td>Leukocytes Urine-Abnormal</td>\n",
       "    </tr>\n",
       "    <tr>\n",
       "      <th>48</th>\n",
       "      <td>Nitrite Urine-Abnormal</td>\n",
       "    </tr>\n",
       "    <tr>\n",
       "      <th>49</th>\n",
       "      <td>pH Urine-Abnormal</td>\n",
       "    </tr>\n",
       "    <tr>\n",
       "      <th>50</th>\n",
       "      <td>Protein Urine-Abnormal</td>\n",
       "    </tr>\n",
       "    <tr>\n",
       "      <th>51</th>\n",
       "      <td>RBC Urine-Abnormal</td>\n",
       "    </tr>\n",
       "    <tr>\n",
       "      <th>52</th>\n",
       "      <td>Specific Gravity Urine-Abnormal</td>\n",
       "    </tr>\n",
       "    <tr>\n",
       "      <th>53</th>\n",
       "      <td>Urine Appearance Urine-Abnormal</td>\n",
       "    </tr>\n",
       "    <tr>\n",
       "      <th>54</th>\n",
       "      <td>Urine Color Urine-Abnormal</td>\n",
       "    </tr>\n",
       "    <tr>\n",
       "      <th>55</th>\n",
       "      <td>Urobilinogen Urine-Abnormal</td>\n",
       "    </tr>\n",
       "    <tr>\n",
       "      <th>56</th>\n",
       "      <td>WBC Urine-Abnormal</td>\n",
       "    </tr>\n",
       "    <tr>\n",
       "      <th>57</th>\n",
       "      <td>Yeast Urine-Abnormal</td>\n",
       "    </tr>\n",
       "    <tr>\n",
       "      <th>58</th>\n",
       "      <td>Base Excess Blood-Abnormal-Missing?</td>\n",
       "    </tr>\n",
       "    <tr>\n",
       "      <th>59</th>\n",
       "      <td>Calculated Total CO2 Blood-Abnormal-Missing?</td>\n",
       "    </tr>\n",
       "    <tr>\n",
       "      <th>60</th>\n",
       "      <td>Lactate Blood-Abnormal-Missing?</td>\n",
       "    </tr>\n",
       "    <tr>\n",
       "      <th>61</th>\n",
       "      <td>pCO2 Blood-Abnormal-Missing?</td>\n",
       "    </tr>\n",
       "    <tr>\n",
       "      <th>62</th>\n",
       "      <td>pH Blood-Abnormal-Missing?</td>\n",
       "    </tr>\n",
       "    <tr>\n",
       "      <th>63</th>\n",
       "      <td>pO2 Blood-Abnormal-Missing?</td>\n",
       "    </tr>\n",
       "    <tr>\n",
       "      <th>64</th>\n",
       "      <td>Potassium, Whole Blood Blood-Abnormal-Missing?</td>\n",
       "    </tr>\n",
       "    <tr>\n",
       "      <th>65</th>\n",
       "      <td>Alanine Aminotransferase (ALT) Blood-Abnormal-...</td>\n",
       "    </tr>\n",
       "    <tr>\n",
       "      <th>66</th>\n",
       "      <td>Albumin Blood-Abnormal-Missing?</td>\n",
       "    </tr>\n",
       "    <tr>\n",
       "      <th>67</th>\n",
       "      <td>Alkaline Phosphatase Blood-Abnormal-Missing?</td>\n",
       "    </tr>\n",
       "    <tr>\n",
       "      <th>68</th>\n",
       "      <td>Anion Gap Blood-Abnormal-Missing?</td>\n",
       "    </tr>\n",
       "    <tr>\n",
       "      <th>69</th>\n",
       "      <td>Asparate Aminotransferase (AST) Blood-Abnormal...</td>\n",
       "    </tr>\n",
       "    <tr>\n",
       "      <th>70</th>\n",
       "      <td>Bicarbonate Blood-Abnormal-Missing?</td>\n",
       "    </tr>\n",
       "    <tr>\n",
       "      <th>71</th>\n",
       "      <td>Bilirubin, Total Blood-Abnormal-Missing?</td>\n",
       "    </tr>\n",
       "    <tr>\n",
       "      <th>72</th>\n",
       "      <td>Calcium, Total Blood-Abnormal-Missing?</td>\n",
       "    </tr>\n",
       "    <tr>\n",
       "      <th>73</th>\n",
       "      <td>Chloride Blood-Abnormal-Missing?</td>\n",
       "    </tr>\n",
       "    <tr>\n",
       "      <th>74</th>\n",
       "      <td>Creatinine Blood-Abnormal-Missing?</td>\n",
       "    </tr>\n",
       "    <tr>\n",
       "      <th>75</th>\n",
       "      <td>Glucose Blood-Abnormal-Missing?</td>\n",
       "    </tr>\n",
       "    <tr>\n",
       "      <th>76</th>\n",
       "      <td>Magnesium Blood-Abnormal-Missing?</td>\n",
       "    </tr>\n",
       "    <tr>\n",
       "      <th>77</th>\n",
       "      <td>Phosphate Blood-Abnormal-Missing?</td>\n",
       "    </tr>\n",
       "    <tr>\n",
       "      <th>78</th>\n",
       "      <td>Potassium Blood-Abnormal-Missing?</td>\n",
       "    </tr>\n",
       "    <tr>\n",
       "      <th>79</th>\n",
       "      <td>Sodium Blood-Abnormal-Missing?</td>\n",
       "    </tr>\n",
       "    <tr>\n",
       "      <th>80</th>\n",
       "      <td>Urea Nitrogen Blood-Abnormal-Missing?</td>\n",
       "    </tr>\n",
       "    <tr>\n",
       "      <th>81</th>\n",
       "      <td>Basophils Blood-Abnormal-Missing?</td>\n",
       "    </tr>\n",
       "    <tr>\n",
       "      <th>82</th>\n",
       "      <td>Eosinophils Blood-Abnormal-Missing?</td>\n",
       "    </tr>\n",
       "    <tr>\n",
       "      <th>83</th>\n",
       "      <td>Hematocrit Blood-Abnormal-Missing?</td>\n",
       "    </tr>\n",
       "    <tr>\n",
       "      <th>84</th>\n",
       "      <td>Hemoglobin Blood-Abnormal-Missing?</td>\n",
       "    </tr>\n",
       "    <tr>\n",
       "      <th>85</th>\n",
       "      <td>INR(PT) Blood-Abnormal-Missing?</td>\n",
       "    </tr>\n",
       "    <tr>\n",
       "      <th>86</th>\n",
       "      <td>Lymphocytes Blood-Abnormal-Missing?</td>\n",
       "    </tr>\n",
       "    <tr>\n",
       "      <th>87</th>\n",
       "      <td>MCH Blood-Abnormal-Missing?</td>\n",
       "    </tr>\n",
       "    <tr>\n",
       "      <th>88</th>\n",
       "      <td>MCHC Blood-Abnormal-Missing?</td>\n",
       "    </tr>\n",
       "    <tr>\n",
       "      <th>89</th>\n",
       "      <td>MCV Blood-Abnormal-Missing?</td>\n",
       "    </tr>\n",
       "    <tr>\n",
       "      <th>90</th>\n",
       "      <td>Monocytes Blood-Abnormal-Missing?</td>\n",
       "    </tr>\n",
       "    <tr>\n",
       "      <th>91</th>\n",
       "      <td>Neutrophils Blood-Abnormal-Missing?</td>\n",
       "    </tr>\n",
       "    <tr>\n",
       "      <th>92</th>\n",
       "      <td>Platelet Count Blood-Abnormal-Missing?</td>\n",
       "    </tr>\n",
       "    <tr>\n",
       "      <th>93</th>\n",
       "      <td>PT Blood-Abnormal-Missing?</td>\n",
       "    </tr>\n",
       "    <tr>\n",
       "      <th>94</th>\n",
       "      <td>PTT Blood-Abnormal-Missing?</td>\n",
       "    </tr>\n",
       "    <tr>\n",
       "      <th>95</th>\n",
       "      <td>RDW Blood-Abnormal-Missing?</td>\n",
       "    </tr>\n",
       "    <tr>\n",
       "      <th>96</th>\n",
       "      <td>Red Blood Cells Blood-Abnormal-Missing?</td>\n",
       "    </tr>\n",
       "    <tr>\n",
       "      <th>97</th>\n",
       "      <td>White Blood Cells Blood-Abnormal-Missing?</td>\n",
       "    </tr>\n",
       "    <tr>\n",
       "      <th>98</th>\n",
       "      <td>Bilirubin Urine-Abnormal-Missing?</td>\n",
       "    </tr>\n",
       "    <tr>\n",
       "      <th>99</th>\n",
       "      <td>Blood Urine-Abnormal-Missing?</td>\n",
       "    </tr>\n",
       "    <tr>\n",
       "      <th>100</th>\n",
       "      <td>Epithelial Cells Urine-Abnormal-Missing?</td>\n",
       "    </tr>\n",
       "    <tr>\n",
       "      <th>101</th>\n",
       "      <td>Glucose Urine-Abnormal-Missing?</td>\n",
       "    </tr>\n",
       "    <tr>\n",
       "      <th>102</th>\n",
       "      <td>Ketone Urine-Abnormal-Missing?</td>\n",
       "    </tr>\n",
       "    <tr>\n",
       "      <th>103</th>\n",
       "      <td>Leukocytes Urine-Abnormal-Missing?</td>\n",
       "    </tr>\n",
       "    <tr>\n",
       "      <th>104</th>\n",
       "      <td>Nitrite Urine-Abnormal-Missing?</td>\n",
       "    </tr>\n",
       "    <tr>\n",
       "      <th>105</th>\n",
       "      <td>pH Urine-Abnormal-Missing?</td>\n",
       "    </tr>\n",
       "    <tr>\n",
       "      <th>106</th>\n",
       "      <td>Protein Urine-Abnormal-Missing?</td>\n",
       "    </tr>\n",
       "    <tr>\n",
       "      <th>107</th>\n",
       "      <td>RBC Urine-Abnormal-Missing?</td>\n",
       "    </tr>\n",
       "    <tr>\n",
       "      <th>108</th>\n",
       "      <td>Specific Gravity Urine-Abnormal-Missing?</td>\n",
       "    </tr>\n",
       "    <tr>\n",
       "      <th>109</th>\n",
       "      <td>Urine Appearance Urine-Abnormal-Missing?</td>\n",
       "    </tr>\n",
       "    <tr>\n",
       "      <th>110</th>\n",
       "      <td>Urine Color Urine-Abnormal-Missing?</td>\n",
       "    </tr>\n",
       "    <tr>\n",
       "      <th>111</th>\n",
       "      <td>Urobilinogen Urine-Abnormal-Missing?</td>\n",
       "    </tr>\n",
       "    <tr>\n",
       "      <th>112</th>\n",
       "      <td>WBC Urine-Abnormal-Missing?</td>\n",
       "    </tr>\n",
       "    <tr>\n",
       "      <th>113</th>\n",
       "      <td>Yeast Urine-Abnormal-Missing?</td>\n",
       "    </tr>\n",
       "  </tbody>\n",
       "</table>\n",
       "</div>"
      ],
      "text/plain": [
       "                                               Feature\n",
       "0                         1st Admission Length of Stay\n",
       "1                                                  Age\n",
       "2                           Base Excess Blood-Abnormal\n",
       "3                  Calculated Total CO2 Blood-Abnormal\n",
       "4                               Lactate Blood-Abnormal\n",
       "5                                  pCO2 Blood-Abnormal\n",
       "6                                    pH Blood-Abnormal\n",
       "7                                   pO2 Blood-Abnormal\n",
       "8                Potassium, Whole Blood Blood-Abnormal\n",
       "9        Alanine Aminotransferase (ALT) Blood-Abnormal\n",
       "10                              Albumin Blood-Abnormal\n",
       "11                 Alkaline Phosphatase Blood-Abnormal\n",
       "12                            Anion Gap Blood-Abnormal\n",
       "13      Asparate Aminotransferase (AST) Blood-Abnormal\n",
       "14                          Bicarbonate Blood-Abnormal\n",
       "15                     Bilirubin, Total Blood-Abnormal\n",
       "16                       Calcium, Total Blood-Abnormal\n",
       "17                             Chloride Blood-Abnormal\n",
       "18                           Creatinine Blood-Abnormal\n",
       "19                              Glucose Blood-Abnormal\n",
       "20                            Magnesium Blood-Abnormal\n",
       "21                            Phosphate Blood-Abnormal\n",
       "22                            Potassium Blood-Abnormal\n",
       "23                               Sodium Blood-Abnormal\n",
       "24                        Urea Nitrogen Blood-Abnormal\n",
       "25                            Basophils Blood-Abnormal\n",
       "26                          Eosinophils Blood-Abnormal\n",
       "27                           Hematocrit Blood-Abnormal\n",
       "28                           Hemoglobin Blood-Abnormal\n",
       "29                              INR(PT) Blood-Abnormal\n",
       "30                          Lymphocytes Blood-Abnormal\n",
       "31                                  MCH Blood-Abnormal\n",
       "32                                 MCHC Blood-Abnormal\n",
       "33                                  MCV Blood-Abnormal\n",
       "34                            Monocytes Blood-Abnormal\n",
       "35                          Neutrophils Blood-Abnormal\n",
       "36                       Platelet Count Blood-Abnormal\n",
       "37                                   PT Blood-Abnormal\n",
       "38                                  PTT Blood-Abnormal\n",
       "39                                  RDW Blood-Abnormal\n",
       "40                      Red Blood Cells Blood-Abnormal\n",
       "41                    White Blood Cells Blood-Abnormal\n",
       "42                            Bilirubin Urine-Abnormal\n",
       "43                                Blood Urine-Abnormal\n",
       "44                     Epithelial Cells Urine-Abnormal\n",
       "45                              Glucose Urine-Abnormal\n",
       "46                               Ketone Urine-Abnormal\n",
       "47                           Leukocytes Urine-Abnormal\n",
       "48                              Nitrite Urine-Abnormal\n",
       "49                                   pH Urine-Abnormal\n",
       "50                              Protein Urine-Abnormal\n",
       "51                                  RBC Urine-Abnormal\n",
       "52                     Specific Gravity Urine-Abnormal\n",
       "53                     Urine Appearance Urine-Abnormal\n",
       "54                          Urine Color Urine-Abnormal\n",
       "55                         Urobilinogen Urine-Abnormal\n",
       "56                                  WBC Urine-Abnormal\n",
       "57                                Yeast Urine-Abnormal\n",
       "58                 Base Excess Blood-Abnormal-Missing?\n",
       "59        Calculated Total CO2 Blood-Abnormal-Missing?\n",
       "60                     Lactate Blood-Abnormal-Missing?\n",
       "61                        pCO2 Blood-Abnormal-Missing?\n",
       "62                          pH Blood-Abnormal-Missing?\n",
       "63                         pO2 Blood-Abnormal-Missing?\n",
       "64      Potassium, Whole Blood Blood-Abnormal-Missing?\n",
       "65   Alanine Aminotransferase (ALT) Blood-Abnormal-...\n",
       "66                     Albumin Blood-Abnormal-Missing?\n",
       "67        Alkaline Phosphatase Blood-Abnormal-Missing?\n",
       "68                   Anion Gap Blood-Abnormal-Missing?\n",
       "69   Asparate Aminotransferase (AST) Blood-Abnormal...\n",
       "70                 Bicarbonate Blood-Abnormal-Missing?\n",
       "71            Bilirubin, Total Blood-Abnormal-Missing?\n",
       "72              Calcium, Total Blood-Abnormal-Missing?\n",
       "73                    Chloride Blood-Abnormal-Missing?\n",
       "74                  Creatinine Blood-Abnormal-Missing?\n",
       "75                     Glucose Blood-Abnormal-Missing?\n",
       "76                   Magnesium Blood-Abnormal-Missing?\n",
       "77                   Phosphate Blood-Abnormal-Missing?\n",
       "78                   Potassium Blood-Abnormal-Missing?\n",
       "79                      Sodium Blood-Abnormal-Missing?\n",
       "80               Urea Nitrogen Blood-Abnormal-Missing?\n",
       "81                   Basophils Blood-Abnormal-Missing?\n",
       "82                 Eosinophils Blood-Abnormal-Missing?\n",
       "83                  Hematocrit Blood-Abnormal-Missing?\n",
       "84                  Hemoglobin Blood-Abnormal-Missing?\n",
       "85                     INR(PT) Blood-Abnormal-Missing?\n",
       "86                 Lymphocytes Blood-Abnormal-Missing?\n",
       "87                         MCH Blood-Abnormal-Missing?\n",
       "88                        MCHC Blood-Abnormal-Missing?\n",
       "89                         MCV Blood-Abnormal-Missing?\n",
       "90                   Monocytes Blood-Abnormal-Missing?\n",
       "91                 Neutrophils Blood-Abnormal-Missing?\n",
       "92              Platelet Count Blood-Abnormal-Missing?\n",
       "93                          PT Blood-Abnormal-Missing?\n",
       "94                         PTT Blood-Abnormal-Missing?\n",
       "95                         RDW Blood-Abnormal-Missing?\n",
       "96             Red Blood Cells Blood-Abnormal-Missing?\n",
       "97           White Blood Cells Blood-Abnormal-Missing?\n",
       "98                   Bilirubin Urine-Abnormal-Missing?\n",
       "99                       Blood Urine-Abnormal-Missing?\n",
       "100           Epithelial Cells Urine-Abnormal-Missing?\n",
       "101                    Glucose Urine-Abnormal-Missing?\n",
       "102                     Ketone Urine-Abnormal-Missing?\n",
       "103                 Leukocytes Urine-Abnormal-Missing?\n",
       "104                    Nitrite Urine-Abnormal-Missing?\n",
       "105                         pH Urine-Abnormal-Missing?\n",
       "106                    Protein Urine-Abnormal-Missing?\n",
       "107                        RBC Urine-Abnormal-Missing?\n",
       "108           Specific Gravity Urine-Abnormal-Missing?\n",
       "109           Urine Appearance Urine-Abnormal-Missing?\n",
       "110                Urine Color Urine-Abnormal-Missing?\n",
       "111               Urobilinogen Urine-Abnormal-Missing?\n",
       "112                        WBC Urine-Abnormal-Missing?\n",
       "113                      Yeast Urine-Abnormal-Missing?"
      ]
     },
     "execution_count": 26,
     "metadata": {},
     "output_type": "execute_result"
    }
   ],
   "source": [
    "# Get array of all feature names\n",
    "all_feat_names = np.concatenate((adm_feat_names_df.get_values(),\n",
    "                                 lab_feat_names_df.get_values(),\n",
    "                                 missing_feat_names_df.get_values()))\n",
    "\n",
    "# Format into a DataFrame\n",
    "all_feat_names_df = pd.DataFrame(all_feat_names, columns={\"Feature\"})\n",
    "pd.set_option('display.max_rows', 114)\n",
    "all_feat_names_df"
   ]
  },
  {
   "cell_type": "markdown",
   "metadata": {},
   "source": [
    "## SECTION III: EXPLORATORY DATA VISUALIZATION AND ANALYSIS"
   ]
  },
  {
   "cell_type": "code",
   "execution_count": 27,
   "metadata": {},
   "outputs": [],
   "source": [
    "# Import libraries\n",
    "import pandas as pd\n",
    "import numpy as np\n",
    "from datetime import datetime as dt\n",
    "import sqlite3\n",
    "import seaborn as sns\n",
    "import pylab\n",
    "import matplotlib.pyplot as plt\n",
    "import matplotlib.pyplot as plt\n",
    "from sklearn.manifold import TSNE"
   ]
  },
  {
   "cell_type": "markdown",
   "metadata": {},
   "source": [
    "### 1. Visualize Patient and Hospital Admission Data\n",
    "##### Age,  Length of Hospital Stay, 30 Day Readmission "
   ]
  },
  {
   "cell_type": "markdown",
   "metadata": {},
   "source": [
    "This figure shows the age and length of hospital stay for the patients in the dataset. Each color represents a different class where blue means 'not readmitted in 30 days' and orange means 'readmitted in 30 days'."
   ]
  },
  {
   "cell_type": "code",
   "execution_count": 28,
   "metadata": {},
   "outputs": [
    {
     "name": "stderr",
     "output_type": "stream",
     "text": [
      "/Users/kevinmchu/anaconda3/lib/python3.7/site-packages/pandas/core/indexing.py:189: SettingWithCopyWarning: \n",
      "A value is trying to be set on a copy of a slice from a DataFrame\n",
      "\n",
      "See the caveats in the documentation: http://pandas.pydata.org/pandas-docs/stable/indexing.html#indexing-view-versus-copy\n",
      "  self._setitem_with_indexer(indexer, value)\n"
     ]
    }
   ],
   "source": [
    "# Collect data\n",
    "\n",
    "conn = sqlite3.connect(\"./data/data.db\") \n",
    "\n",
    "#Age\n",
    "pat_vis_data = pd.read_sql(\"\"\"SELECT pat.SUBJECT_ID, pat.DOB, adm.ADMITTIME\n",
    "                            FROM patients pat\n",
    "                            INNER JOIN admissions adm\n",
    "                            ON pat.SUBJECT_ID = adm.SUBJECT_ID\n",
    "                            ORDER BY pat.SUBJECT_ID ASC\"\"\", conn)\n",
    "pat_adm_df = pd.read_sql(\"\"\"SELECT pat.SUBJECT_ID, pat.DOB, adm.ADMITTIME\n",
    "                            FROM patients pat\n",
    "                            INNER JOIN admissions adm\n",
    "                            ON pat.SUBJECT_ID = adm.SUBJECT_ID\n",
    "                            ORDER BY pat.SUBJECT_ID ASC\"\"\", conn)\n",
    "pat_vis_data['Age'] = (pd.to_datetime(pat_adm_df['ADMITTIME']) - pd.to_datetime(pat_adm_df['DOB'])).dt.days\n",
    "\n",
    "#LOS\n",
    "admissions_info = pd.read_sql(\"\"\"SELECT adm.SUBJECT_ID, HADM_ID, ADMITTIME, DISCHTIME\n",
    "                                 FROM admissions adm\n",
    "                                 INNER JOIN patients pat\n",
    "                                 ON adm.SUBJECT_ID = pat.SUBJECT_ID\n",
    "                                 ORDER BY pat.SUBJECT_ID ASC\n",
    "                                 \"\"\", conn)\n",
    "admissions_info['DISCHTIME'] = pd.to_datetime(admissions_info['DISCHTIME'])\n",
    "admissions_info['ADMITTIME'] = pd.to_datetime(admissions_info['ADMITTIME'])\n",
    "pat_vis_data['Hos_LOS'] = (pd.to_datetime(admissions_info['DISCHTIME']) - pd.to_datetime(admissions_info['ADMITTIME'])).dt.days\n",
    "\n",
    "# Gender\n",
    "pat_vis_data['Gender'] = pd.read_sql(\"\"\"SELECT GENDER FROM patients\"\"\", conn)\n",
    "\n",
    "# 30 Day Readmission\n",
    "truth_array = np.loadtxt(\"TRUTH.csv\", delimiter=',', skiprows=1)\n",
    "truth_df = pd.DataFrame(truth_array, columns=['SUBJECT_ID', 'TRUTH', 'HADM_ID'])\n",
    "truth_df[\"SUBJECT_ID\"] = truth_df[\"SUBJECT_ID\"].astype(int)\n",
    "truth_df[\"TRUTH\"] = truth_df[\"TRUTH\"].astype(int)\n",
    "truth_df[\"HADM_ID\"] = truth_df[\"HADM_ID\"].astype(int)\n",
    "pat_vis_data = pat_vis_data.merge(truth_df, on='SUBJECT_ID', how='inner')\n",
    "\n",
    "# Clean up final dataframe\n",
    "pat_vis_data = pat_vis_data.drop_duplicates(subset='SUBJECT_ID').drop(['DOB','ADMITTIME','HADM_ID','SUBJECT_ID'], axis=1)\n",
    "pat_vis_data['TRUTH'].loc[pat_vis_data['TRUTH'] == 0] = 'Not Readmitted Within 30 Days'\n",
    "pat_vis_data['TRUTH'].loc[pat_vis_data['TRUTH'] == 1] = 'Readmitted Within 30 Days'\n",
    "pat_vis_data['Age'] = pat_vis_data['Age']/365\n",
    "pat_vis_data['Age'].loc[pat_vis_data['Age'] < 0] = 89\n",
    "pat_vis_data['Age'] = pat_vis_data['Age'].astype(float)\n",
    "pat_vis_data['Hos_LOS'] = pat_vis_data['Hos_LOS'].astype(float)"
   ]
  },
  {
   "cell_type": "code",
   "execution_count": 29,
   "metadata": {},
   "outputs": [
    {
     "data": {
      "image/png": "[encoded data removed]",
      "text/plain": [
       "<Figure size 360x360 with 1 Axes>"
      ]
     },
     "metadata": {
      "needs_background": "light"
     },
     "output_type": "display_data"
    }
   ],
   "source": [
    "# Visualize all data for relevant patients\n",
    "\n",
    "import pylab\n",
    "import matplotlib.pyplot as plt\n",
    "\n",
    "plt.figure(figsize=(5, 5))\n",
    "ax = plt.subplot(111)\n",
    "sns.set()\n",
    "sns.set_style(\"white\")\n",
    "cmap = sns.color_palette(n_colors=2)\n",
    "\n",
    "sns.scatterplot(x=\"Age\", y=\"Hos_LOS\",\n",
    "                     hue=\"TRUTH\",\n",
    "                     palette=cmap, sizes=(10, 30),\n",
    "                     data=pat_vis_data)\n",
    "\n",
    "plt.axis((-5, 100, 0, 350))\n",
    "plt.title('Visualization of Features', fontsize=16)\n",
    "plt.xlabel('Age (years)', fontsize=16)\n",
    "plt.ylabel('Hospital Stay (days)', fontsize=16)\n",
    "plt.legend(loc=\"upper right\", fontsize=12)\n",
    "\n",
    "x_ticks = np.array([0, 20, 40, 60, 80, 100])\n",
    "ax.set_xticks(x_ticks)\n",
    "ax.set_xticklabels(x_ticks, rotation=0, fontsize=16)\n",
    "y_ticks = np.array([0, 50, 100, 150, 200, 250, 300, 350])\n",
    "ax.set_yticklabels(y_ticks, rotation=0, fontsize=16)\n",
    "\n",
    "plt.savefig(\"Section3LosAge.png\", bbox_inches='tight')"
   ]
  },
  {
   "cell_type": "markdown",
   "metadata": {},
   "source": [
    "### 2. Visualize Lab Events"
   ]
  },
  {
   "cell_type": "markdown",
   "metadata": {},
   "source": [
    "This figure shows the age and proportion of white blood cell counts in the blood that were abnormal. As before, blue represents patients that were not readmitted within 30 days, and orange represents patients that were readmitted within 30 days."
   ]
  },
  {
   "cell_type": "code",
   "execution_count": 30,
   "metadata": {},
   "outputs": [
    {
     "data": {
      "image/png": "[encoded data removed]",
      "text/plain": [
       "<Figure size 360x360 with 1 Axes>"
      ]
     },
     "metadata": {},
     "output_type": "display_data"
    }
   ],
   "source": [
    "# Visualize all data for relevant patients\n",
    "\n",
    "import pylab\n",
    "import matplotlib.pyplot as plt\n",
    "\n",
    "plt.figure(figsize=(5, 5))\n",
    "ax = plt.subplot(111)\n",
    "sns.set()\n",
    "sns.set_style(\"white\")\n",
    "cmap = sns.color_palette(n_colors=2)\n",
    "\n",
    "sns.scatterplot(x=\"Age\", y=design_mat_df[\"51301_ABNORMAL\"],\n",
    "                     hue=\"TRUTH\",\n",
    "                     palette=cmap, sizes=(10, 30),\n",
    "                     data=pat_vis_data)\n",
    "\n",
    "plt.axis((-5, 100, 0, 1))\n",
    "plt.title('White Blood Cells vs. Age', fontsize=16)\n",
    "plt.xlabel('Age (years)', fontsize=16)\n",
    "plt.ylabel('Abnormal White Blood Cell Count', fontsize=16)\n",
    "plt.legend(loc=\"upper right\", fontsize=12)\n",
    "\n",
    "x_ticks = np.array([0, 20, 40, 60, 80, 100])\n",
    "ax.set_xticks(x_ticks)\n",
    "ax.set_xticklabels(x_ticks, rotation=0, fontsize=16)\n",
    "y_ticks = np.array([0, 0.2, 0.4, 0.6, 0.8, 1])\n",
    "ax.set_yticklabels(y_ticks, rotation=0, fontsize=16)\n",
    "\n",
    "plt.savefig(\"Section3WbcAge.png\", bbox_inches='tight')"
   ]
  },
  {
   "cell_type": "markdown",
   "metadata": {},
   "source": [
    "### 3. t-SNE Visualization of Full Feature Matrix"
   ]
  },
  {
   "cell_type": "markdown",
   "metadata": {},
   "source": [
    "Next, we visualize the final features using t-distributed stochastic neighborhood embedding (t-SNE), which is a non-linear dimensionality reduction technique that maps a high dimensional feature space to two dimensions for visualization. Clusters that are nearby in t-SNE space are also nearby in the higher dimensional space. The figure below is a t-SNE visualization of the 114 features in the design matrix, where the color represents the class. The figure indicates a substantial amount of overlap between the patients readmitted within 30 days and the other patients, which suggests that it may be challenging to create a classification model that can separate the two classes."
   ]
  },
  {
   "cell_type": "code",
   "execution_count": 31,
   "metadata": {},
   "outputs": [],
   "source": [
    "# Visualize in 2D using TSNE\n",
    "import matplotlib.pyplot as plt\n",
    "from sklearn.manifold import TSNE\n",
    "\n",
    "tsne = TSNE(n_components=2)\n",
    "X_tsne = tsne.fit_transform(X_train)"
   ]
  },
  {
   "cell_type": "code",
   "execution_count": 32,
   "metadata": {},
   "outputs": [
    {
     "data": {
      "text/plain": [
       "[Text(0,0,'-60'),\n",
       " Text(0,0,'-40'),\n",
       " Text(0,0,'-20'),\n",
       " Text(0,0,'0'),\n",
       " Text(0,0,'20'),\n",
       " Text(0,0,'40'),\n",
       " Text(0,0,'60')]"
      ]
     },
     "execution_count": 32,
     "metadata": {},
     "output_type": "execute_result"
    },
    {
     "data": {
      "image/png": "[encoded data removed]",
      "text/plain": [
       "<Figure size 360x360 with 1 Axes>"
      ]
     },
     "metadata": {},
     "output_type": "display_data"
    }
   ],
   "source": [
    "# Plot\n",
    "plt.figure(figsize=(5, 5))\n",
    "ax = plt.subplot(111)\n",
    "sns.set()\n",
    "sns.set_style(\"white\")\n",
    "cmap = sns.color_palette(n_colors=2)\n",
    "\n",
    "sns.scatterplot(x=X_tsne[:, 0], y=X_tsne[:, 1],\n",
    "                     hue=y_train,\n",
    "                     palette=cmap, sizes=(10, 30),\n",
    "                     data=pat_vis_data)\n",
    "\n",
    "plt.axis((-60, 60, -60, 60))\n",
    "plt.title('t-SNE Visualization of Features', fontsize=16)\n",
    "plt.xlabel('Dimension 1', fontsize=16)\n",
    "plt.ylabel('Dimension 2', fontsize=16)\n",
    "plt.legend(loc=\"upper right\", fontsize=12)\n",
    "\n",
    "x_ticks = np.array([-60, -40, -20, 0, 20, 40, 60])\n",
    "ax.set_xticklabels(x_ticks, rotation=0, fontsize=16)\n",
    "y_ticks = np.array([-60, -40, -20, 0, 20, 40, 60])\n",
    "ax.set_yticklabels(y_ticks, rotation=0, fontsize=16)"
   ]
  },
  {
   "cell_type": "markdown",
   "metadata": {},
   "source": [
    "## SECTION IV: MODELING\n",
    "\n",
    "After creating our overall feature matrix and splitting the data into X_train, y_train, X_test, y_test we can begin to try out different models to see which work best with the data. This section first applies multiple classifiers to the data to identify which classifier performs best. In this particular section, all default parameters are left as is. Once the highest-performing classifier is identified in this section, we can begin to tune the parameters later on to optimize model performance."
   ]
  },
  {
   "cell_type": "markdown",
   "metadata": {},
   "source": [
    "### 1. Testing Different Classifiers With Default Parameters\n",
    "\n",
    "First, five different classifiers (and their default parameters) were used to process the data. The five classifiers were Support Vector Machine (SVM), Logistic Regression (LR), AdaBoost, Bayes, and Random Forest. These are common classifiers that represent a wide range of diversity in classifier assumptions and strengths. Each classifier was fit to the training data and then evaluated using the testing data. Area Under the Curve (AUC) scores and Reciever Operating Characteristic (ROCs) curves were calculated for each classifier to identify model performance. "
   ]
  },
  {
   "cell_type": "code",
   "execution_count": 33,
   "metadata": {},
   "outputs": [
    {
     "name": "stderr",
     "output_type": "stream",
     "text": [
      "/Users/kevinmchu/anaconda3/lib/python3.7/site-packages/sklearn/ensemble/weight_boosting.py:29: DeprecationWarning: numpy.core.umath_tests is an internal NumPy module and should not be imported. It will be removed in a future NumPy release.\n",
      "  from numpy.core.umath_tests import inner1d\n"
     ]
    }
   ],
   "source": [
    "# import sklearn metrics and all classifiers\n",
    "from sklearn import metrics\n",
    "from sklearn.svm import SVC\n",
    "from sklearn.linear_model import LogisticRegression\n",
    "from sklearn.ensemble import RandomForestClassifier\n",
    "from sklearn.ensemble import AdaBoostClassifier\n",
    "from sklearn.naive_bayes import GaussianNB\n",
    "\n",
    "# this function takes a classifier, training and testing data to obtain a y_pred vector from which you can obtain an AUC metric as well as False Positive Rates (FPRs) and True Positive Rates (TPRs) to produce an ROC curve.\n",
    "def evaluateClass(clf, X_train, y_train, X_test, y_test):\n",
    "    clf = clf.fit(X_train, y_train)\n",
    "    y_pred = clf.decision_function(X_test)\n",
    "    fpr, tpr, thresholds = metrics.roc_curve(y_test, y_pred, pos_label=1)\n",
    "    AUC = metrics.auc(fpr, tpr)\n",
    "    return AUC, fpr, tpr\n",
    "\n",
    "# Instantiate SVM classifier\n",
    "svm = SVC(random_state=42)\n",
    "# Calculate AUC, FPR, TPR for SVM classifier\n",
    "svm_AUC, svm_fpr, svm_tpr = evaluateClass(svm, X_train, y_train, X_test, y_test)\n",
    "\n",
    "# Instantiate LR classifier\n",
    "LR = LogisticRegression(random_state=0)\n",
    "# Calculate AUC, FPR, TPR for LR classifier\n",
    "LR_AUC, LR_fpr, LR_tpr = evaluateClass(LR, X_train, y_train, X_test, y_test)\n",
    "\n",
    "# Instantiate AdaBoost Classifier\n",
    "Ada = AdaBoostClassifier()\n",
    "# Calculate AUC, FPR, TPR for AdaBoost classifier\n",
    "Ada_AUC, Ada_fpr, Ada_tpr = evaluateClass(Ada, X_train, y_train, X_test, y_test)\n",
    "\n",
    "# The Bayes and Random Forest classifiers do not have the .decision_function() methods so they are computed separately below:\n",
    "# Instantiate Bayes classifier\n",
    "Bayes = GaussianNB()\n",
    "# Train and test model\n",
    "Bayes = Bayes.fit(X_train, y_train)\n",
    "y_pred = Bayes.predict(X_test)\n",
    "# Evaluating AUC, TPR, FPR\n",
    "Bayes_fpr, Bayes_tpr, thresholds = metrics.roc_curve(y_test, y_pred, pos_label=1)\n",
    "Bayes_AUC = metrics.auc(Bayes_fpr, Bayes_tpr)\n",
    "\n",
    "# Instantiate the RandomForest classifier\n",
    "RandForest = RandomForestClassifier(random_state=0)\n",
    "# Train and test model\n",
    "RandForest = RandForest.fit(X_train, y_train)\n",
    "y_pred = RandForest.predict(X_test)\n",
    "# Evaluating AUC, TPR, FPR\n",
    "RandForest_fpr, RandForest_tpr, thresholds = metrics.roc_curve(y_test, y_pred, pos_label=1)\n",
    "RandForest_AUC = metrics.auc(RandForest_fpr, RandForest_tpr)\n",
    "\n",
    "# creating dataframe to display results\n",
    "AUC_Class_df = pd.DataFrame({'Classifier':['SVM','LR','AdaBoost','Bayes','Random Forest'],'AUC':[svm_AUC, LR_AUC, Ada_AUC, Bayes_AUC, RandForest_AUC]})"
   ]
  },
  {
   "cell_type": "code",
   "execution_count": 34,
   "metadata": {},
   "outputs": [
    {
     "data": {
      "image/png": "[encoded data removed]",
      "text/plain": [
       "<Figure size 432x432 with 1 Axes>"
      ]
     },
     "metadata": {},
     "output_type": "display_data"
    }
   ],
   "source": [
    "# Plot ROC curves for each classifier in one plot\n",
    "import matplotlib.pyplot as plt\n",
    "plt.figure(figsize=(6, 6))\n",
    "ax = plt.subplot(111)\n",
    "plt.plot(svm_fpr, svm_tpr, label = \"SVM, AUC = {}\".format(round(svm_AUC, 3)))\n",
    "plt.plot(LR_fpr, LR_tpr, label = \"LR, AUC = {}\".format(round(LR_AUC, 3)))\n",
    "plt.plot(Ada_fpr, Ada_tpr, label = \"AdaBoost, AUC = {}\".format(round(Ada_AUC, 3)))\n",
    "plt.plot(Bayes_fpr, Bayes_tpr, label = \"Bayes, AUC = {}\".format(round(Bayes_AUC, 3)))\n",
    "plt.plot(RandForest_fpr, RandForest_tpr, label = \"Random Forest, AUC = {}\".format(round(RandForest_AUC, 3)))\n",
    "plt.plot(np.array([0, 1]), np.array([0, 1]), 'k--', label = \"Chance, AUC = {}\".format(0.500))\n",
    "plt.axis((0, 1, 0, 1))\n",
    "\n",
    "# Cleaning up the ROC curve plot\n",
    "plt.title(\"ROC Curves for Different Classifiers\", fontsize=16)\n",
    "plt.xlabel('1-Specificity', fontsize=16)\n",
    "plt.ylabel('Sensitivity', fontsize=16)\n",
    "plt.legend(loc=\"lower right\", fontsize=12)\n",
    "x_ticks = np.array([0, 0.2, 0.4, 0.6, 0.8, 1])\n",
    "ax.set_xticklabels(x_ticks, rotation=0, fontsize=16)\n",
    "y_ticks = np.array([0, 0.2, 0.4, 0.6, 0.8, 1])\n",
    "ax.set_yticklabels(y_ticks, rotation=0, fontsize=16)\n",
    "#plt.savefig(\"ClassifiersDefaultParams.png\", bbox_inches='tight')\n",
    "plt.show()"
   ]
  },
  {
   "cell_type": "code",
   "execution_count": 35,
   "metadata": {},
   "outputs": [
    {
     "data": {
      "text/html": [
       "<div>\n",
       "<style scoped>\n",
       "    .dataframe tbody tr th:only-of-type {\n",
       "        vertical-align: middle;\n",
       "    }\n",
       "\n",
       "    .dataframe tbody tr th {\n",
       "        vertical-align: top;\n",
       "    }\n",
       "\n",
       "    .dataframe thead th {\n",
       "        text-align: right;\n",
       "    }\n",
       "</style>\n",
       "<table border=\"1\" class=\"dataframe\">\n",
       "  <thead>\n",
       "    <tr style=\"text-align: right;\">\n",
       "      <th></th>\n",
       "      <th>Classifier</th>\n",
       "      <th>AUC</th>\n",
       "    </tr>\n",
       "  </thead>\n",
       "  <tbody>\n",
       "    <tr>\n",
       "      <th>0</th>\n",
       "      <td>SVM</td>\n",
       "      <td>0.657719</td>\n",
       "    </tr>\n",
       "    <tr>\n",
       "      <th>1</th>\n",
       "      <td>LR</td>\n",
       "      <td>0.649706</td>\n",
       "    </tr>\n",
       "    <tr>\n",
       "      <th>2</th>\n",
       "      <td>AdaBoost</td>\n",
       "      <td>0.632605</td>\n",
       "    </tr>\n",
       "    <tr>\n",
       "      <th>3</th>\n",
       "      <td>Bayes</td>\n",
       "      <td>0.576176</td>\n",
       "    </tr>\n",
       "    <tr>\n",
       "      <th>4</th>\n",
       "      <td>Random Forest</td>\n",
       "      <td>0.586555</td>\n",
       "    </tr>\n",
       "  </tbody>\n",
       "</table>\n",
       "</div>"
      ],
      "text/plain": [
       "      Classifier       AUC\n",
       "0            SVM  0.657719\n",
       "1             LR  0.649706\n",
       "2       AdaBoost  0.632605\n",
       "3          Bayes  0.576176\n",
       "4  Random Forest  0.586555"
      ]
     },
     "execution_count": 35,
     "metadata": {},
     "output_type": "execute_result"
    }
   ],
   "source": [
    "AUC_Class_df"
   ]
  },
  {
   "cell_type": "markdown",
   "metadata": {},
   "source": [
    "The higher the AUC value is, the better the performance of the algorithm is. Correspondingly, the closer the ROC curve gets to the point (0,1) on the plot, the better the performance is. Given this, from the ROC curves and the AUC values, we can see that SVM performs best. Therefore, in the following section we will focus in on SVM and optimize its parameters to improve overall model performance."
   ]
  },
  {
   "cell_type": "markdown",
   "metadata": {},
   "source": [
    "### 2. Hyperparameter Searching\n",
    "\n",
    "This subsection focuses on optimizing the SVM classifier to improve algorithm performance. The code is commented out because this only needs to run once in order to identify the optimized parameters, which are then plugged into the SVM classifier that we instantiate ultimately for the classification and evaluation of this model. Because we have already run this and identified the optimized parameters, we have plugged them in and evaluated them in \"Classification\" and \"Evaluation\" subsections."
   ]
  },
  {
   "cell_type": "markdown",
   "metadata": {},
   "source": [
    "#### a. Set up cross-validation"
   ]
  },
  {
   "cell_type": "markdown",
   "metadata": {},
   "source": [
    "For classification, we will use a support vector machine (SVM). An SVM classifier fits a decision boundary that simultaneously minimizes the error on the training set while maximizing the margin, or the distance between the decision boundary and the nearest point. The SVM uses a hyperparameter C that controls a trade-off between maximizing the margin and penalizing for incorrect classifications. In its original formulation, SVM can only create linear decision boundaries. To allow for non-linear decision boundaries, we use a radial basis function (RBF) kernel, governed by the parameter gamma, which can be interpreted as the width of the kernel. We optimize the hyperparameter C and the kernel width gamma through 10-fold cross-validation."
   ]
  },
  {
   "cell_type": "code",
   "execution_count": 36,
   "metadata": {},
   "outputs": [],
   "source": [
    "from sklearn.model_selection import StratifiedKFold, GridSearchCV\n",
    "from sklearn.svm import SVC\n",
    "\n",
    "# Set up cross-validation folds\n",
    "cv = StratifiedKFold(n_splits = 10)\n",
    "\n",
    "# Number of features\n",
    "nfeatures = np.shape(X_train)[1]"
   ]
  },
  {
   "cell_type": "markdown",
   "metadata": {},
   "source": [
    "#### b. Set up parameter grid"
   ]
  },
  {
   "cell_type": "markdown",
   "metadata": {},
   "source": [
    "Here, we perform a grid search over different combinations of the cost parameter C and the kernel width gamma. The possible values of C are 0.5, 1.0, 1.5, 2.0, 2.5, and 3.0, and the possible values of gamma are 0.5/D, 1.0/D, 1.5/D, and 2.0/D, where D is the number of features. We select the combination of C and gamma that maximize the area under the ROC curve (AUC) averaged across all 10 folds. As shown below, the best feature combination was determined to be C = 1.5 and gamma = 2/D."
   ]
  },
  {
   "cell_type": "code",
   "execution_count": 37,
   "metadata": {},
   "outputs": [
    {
     "data": {
      "text/plain": [
       "{'C': 2.0, 'gamma': 0.013157894736842105}"
      ]
     },
     "execution_count": 37,
     "metadata": {},
     "output_type": "execute_result"
    }
   ],
   "source": [
    "# Parameter grid\n",
    "params_grid = {\n",
    "    'C': np.arange(0.5, 3.5, 0.5),\n",
    "    'gamma': np.arange(0.5/nfeatures, 2.5/nfeatures, 0.5/nfeatures)\n",
    "}\n",
    "\n",
    "bst_grid = GridSearchCV(estimator = SVC(),\n",
    "                       param_grid = params_grid,\n",
    "                       cv = cv,\n",
    "                       scoring = 'roc_auc')\n",
    "\n",
    "bst_grid.fit(X_train, y_train)\n",
    "\n",
    "bst_grid.best_params_"
   ]
  },
  {
   "cell_type": "markdown",
   "metadata": {},
   "source": [
    "### 3. Classification\n",
    "\n",
    "Now that we have identified the cost and gamma values that give us the best performing model, we can plug them directly into the SVM that is instantiated below, as seen. Next, we fit the SVM to the training data and then run the testing data."
   ]
  },
  {
   "cell_type": "code",
   "execution_count": 38,
   "metadata": {},
   "outputs": [],
   "source": [
    "# Instantiate the SVM classifier with the optimized parameters (cost = 1.5, gamma = 0.017857142857142856)\n",
    "svm = SVC(C=1.5, gamma = 0.017857142857142856)\n",
    "# Train and test the classifier\n",
    "svm = svm.fit(X_train, y_train)\n",
    "y_pred = svm.decision_function(X_test)"
   ]
  },
  {
   "cell_type": "markdown",
   "metadata": {},
   "source": [
    "### 4. Evaluation\n",
    "\n",
    "This subsection evaluates the performance of the optimized SVM classifier created above by calculating the false positive rates (FPRs), true positive rates (TPRs), and AUC score."
   ]
  },
  {
   "cell_type": "code",
   "execution_count": 39,
   "metadata": {},
   "outputs": [
    {
     "name": "stdout",
     "output_type": "stream",
     "text": [
      "0.66226651706158\n"
     ]
    },
    {
     "data": {
      "image/png": "[encoded data removed]",
      "text/plain": [
       "<Figure size 432x432 with 1 Axes>"
      ]
     },
     "metadata": {},
     "output_type": "display_data"
    }
   ],
   "source": [
    "# Calculate FPR, TPR, and AUC\n",
    "fpr, tpr, thresholds = metrics.roc_curve(y_test, y_pred, pos_label=1)\n",
    "AUC = metrics.auc(fpr, tpr)\n",
    "print(AUC)\n",
    "\n",
    "# Plot the ROC curve\n",
    "plt.figure(figsize=(6, 6))\n",
    "ax = plt.subplot(111)\n",
    "plt.plot(fpr, tpr, label='ROC Curve, AUC = {}'.format(round(AUC,3)))\n",
    "plt.plot(np.array([0, 1]), np.array([0, 1]), 'k--', label='Chance, AUC = {}'.format(round(0.5,2)))\n",
    "plt.axis((0, 1, 0, 1))\n",
    "\n",
    "# Labels\n",
    "plt.title('SVM Performance', fontsize=16)\n",
    "plt.xlabel('1-Specificity', fontsize=16)\n",
    "plt.ylabel('Sensitivity', fontsize=16)\n",
    "plt.legend(fontsize=16)\n",
    "x_ticks = np.array([0, 0.2, 0.4, 0.6, 0.8, 1])\n",
    "ax.set_xticklabels(x_ticks, rotation=0, fontsize=16)\n",
    "y_ticks = np.array([0, 0.2, 0.4, 0.6, 0.8, 1])\n",
    "ax.set_yticklabels(y_ticks, rotation=0, fontsize=16)\n",
    "#plt.savefig(\"SvmWithCvParams.png\", bbox_inches='tight')\n",
    "plt.show()"
   ]
  },
  {
   "cell_type": "markdown",
   "metadata": {},
   "source": [
    "Therefore, the final model produces an AUC score of 0.66 and the ROC curve as seen in the figure above. It is worth noting that this AUC score of the optimized SVM is higher (as expected) than the AUC score of the original, default SVM classifier which was 0.659. While the increase in performance is marginal, every bit counts when striving for better performance."
   ]
  },
  {
   "cell_type": "markdown",
   "metadata": {},
   "source": [
    "## SECTION V: SUGGESTIONS"
   ]
  },
  {
   "cell_type": "code",
   "execution_count": null,
   "metadata": {},
   "outputs": [],
   "source": []
  },
  {
   "cell_type": "code",
   "execution_count": null,
   "metadata": {},
   "outputs": [],
   "source": []
  },
  {
   "cell_type": "code",
   "execution_count": null,
   "metadata": {},
   "outputs": [],
   "source": []
  }
 ],
 "metadata": {
  "kernelspec": {
   "display_name": "Python 3",
   "language": "python",
   "name": "python3"
  },
  "language_info": {
   "codemirror_mode": {
    "name": "ipython",
    "version": 3
   },
   "file_extension": ".py",
   "mimetype": "text/x-python",
   "name": "python",
   "nbconvert_exporter": "python",
   "pygments_lexer": "ipython3",
   "version": "3.7.1"
  },
  "varInspector": {
   "cols": {
    "lenName": 16,
    "lenType": 16,
    "lenVar": 40
   },
   "kernels_config": {
    "python": {
     "delete_cmd_postfix": "",
     "delete_cmd_prefix": "del ",
     "library": "var_list.py",
     "varRefreshCmd": "print(var_dic_list())"
    },
    "r": {
     "delete_cmd_postfix": ") ",
     "delete_cmd_prefix": "rm(",
     "library": "var_list.r",
     "varRefreshCmd": "cat(var_dic_list()) "
    }
   },
   "types_to_exclude": [
    "module",
    "function",
    "builtin_function_or_method",
    "instance",
    "_Feature"
   ],
   "window_display": false
  }
 },
 "nbformat": 4,
 "nbformat_minor": 2
}
